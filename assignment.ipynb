{
  "cells": [
    {
      "cell_type": "markdown",
      "metadata": {
        "id": "y3Jp_VhCl4te",
        "tags": []
      },
      "source": [
        "# MΥΕ046 – Υπολογιστική Όραση: Χειμερινό εξάμηνο 2024-2025\n",
        "## Εργασία: 30% του συνολικού βαθμού\n",
        "## Διδάσκων: Άγγελος Γιώτης\n",
        "- ΠΑΡΑΔΟΣΗ: **Τρίτη, 14 Ιανουαρίου, 2025 23:59**"
      ]
    },
    {
      "cell_type": "markdown",
      "metadata": {
        "id": "FOXXS2dOl4tj",
        "tags": []
      },
      "source": [
        "# Γενικές Οδηγίες\n",
        "\n",
        "Απαντήστε στα παρακάτω ζητήματα χρησιμοποιώντας Python στο συνημμένο σημειωματάριο Jupyter και ακολουθήστε τις παρακάτω οδηγίες:\n",
        "\n",
        "- Οι ασκήσεις είναι **ατομικές** - δεν επιτρέπεται η μεταξύ σας συνεργασία για την υλοποίηση/παράδοσή τους.\n",
        "\n",
        "- **Δεν** επιτρέπεται να χρησιμοποιήσετε κώδικα που τυχόν θα βρείτε στο διαδίκτυο (είτε αυτούσιο, είτε **παραγόμενο από ΑΙ**). Η χρήση κώδικα τρίτων θα έχει σαν αποτέλεσμα τον αυτόματο μηδενισμό σας.\n",
        "\n",
        "- Όλες οι λύσεις πρέπει να είναι γραμμένες σε αυτό το σημειωματάριο `Jupyter notebook`.\n",
        "\n",
        "- **Εάν** ένα ζήτημα περιλαμβάνει θεωρητική ερώτηση, η απάντηση θα **πρέπει** να συμπεριληφθεί στο τέλος του ζητήματος, σε ξεχωριστό \"Markdown\" κελί.\n",
        "\n",
        "- Ο κώδικάς σας πρέπει να σχολιαστεί εκτενώς! Καλά σχολιασμένος κώδικας θα συνεκτιμηθεί στην αξιολόγησή σας.\n",
        "\n",
        "- Αφού ολοκληρώσετε (υλοποιήσετε και εκτελέσετε) τις απαντήσεις σας στο σημειωματάριο (notebook), εξαγάγετε το notebook ως **PDF** και υποβάλετε, τόσο το σημειωματάριο όσο και το PDF (δηλαδή τα αρχεία `.ipynb` και `.pdf`) στο `turnin` του μαθήματος, μαζί με ένα συνοδευτικό αρχείο `onoma.txt` που θα περιέχει το ον/μο σας και τον Α.Μ. σας. Μια καλή πρακτική για την αποφυγή προβλημάτων απεικόνισης, π.χ., περικοπής εικόνων/κώδικα στα όρια της σελίδας, είναι η μετατροπή του `.ipynb` σε HTML και μετά η αποθήκευση του HTML αρχείου ως PDF.\n",
        "\n",
        "- Οι απαντήσεις θα παραδοθούν με την εντολή: **turnin assignment@mye046 onoma.txt assignment.ipynb assignment.pdf**\n",
        "\n",
        "- Μπορείτε να χρησιμοποιήσετε βασικά πακέτα γραμμικής άλγεβρας (π.χ. `NumPy`, `SciPy`), αλλά δεν επιτρέπεται να χρησιμοποιείτε τα πακέτα/βιβλιοθήκες που επιλύουν άμεσα τα προβλήματα, εκτός και αν αναφέρεται διαφορετικά η χρήση συγκεκριμένου πακέτου σε κάποιο ζήτημα. Αν δεν είστε βέβαιοι για κάποιο συγκεκριμένο πακέτο/βιβλιοθήκη ή συνάρτηση που θα χρησιμοποιήσετε, μη διστάσετε να ρωτήσετε τον διδάσκοντα.\n",
        "\n",
        "- Συνιστάται ιδιαίτερα να αρχίσετε να εργάζεστε στις ασκήσεις σας το συντομότερο δυνατό!\n",
        "\n",
        "**Late Policy:** Εργασίες που υποβάλλονται καθυστερημένα θα λαμβάνουν μείωση βαθμού 10% για κάθε 24 ώρες καθυστέρησης. Οι εργασίες δεν θα γίνονται δεκτές 96 ώρες (4 ημέρες) μετά την προθεσμία παράδοσης. Για παράδειγμα, παράδοση της εργασίας 2 ημέρες μετά την προθεσμία βαθμολογείται με άριστα το 24 (από 30)."
      ]
    },
    {
      "cell_type": "markdown",
      "metadata": {
        "id": "l5pbyh5yl4tk",
        "tags": [],
        "toc-hr-collapsed": true
      },
      "source": [
        "# Intro to Google Colab, Jupyter Notebook - JupyterLab, Python\n",
        "\n",
        "**Εισαγωγή**\n",
        "\n",
        "- Η Εργασία του μαθήματος ΜΥΕ046-Υπολογιστική Όραση περιλαμβάνει 2 Ασκήσεις στο αρχείο `assignment.ipynb`, το οποίο απαιτεί περιβάλλον Jupyter Notebook ή JupyterLab για προβολή και επεξεργασία, **είτε τοπικά** (local machine) στον υπολογιστή σας, **είτε μέσω της υπηρεσίας** νέφους [Google Colab](https://colab.research.google.com/) ή [Colaboratory](https://colab.research.google.com/).\n",
        "\n",
        "\n",
        "**Working remotely on Google Colaboratory**\n",
        "\n",
        "Το [Google Colaboratory](https://colab.research.google.com/) είναι ένας συνδυασμός σημειωματαρίου Jupyter και [Google Drive](https://www.google.com/drive/). Εκτελείται εξ' ολοκλήρου στο cloud και έρχεται προεγκατεστημένο με πολλά πακέτα (π.χ. PyTorch και Tensorflow), ώστε όλοι να έχουν πρόσβαση στις ίδιες εξαρτήσεις/βιβλιοθήκες. Ακόμη πιο ενδιαφέρον είναι το γεγονός ότι το Colab επωφελείται από την ελεύθερη πρόσβαση σε επιταχυντές υλικού (π.χ. κάρτες γραφικών) όπως οι GPU (K80, P100) και οι TPU.\n",
        "\n",
        "- Requirements:\n",
        "\n",
        "Για να χρησιμοποιήσετε το Colab, πρέπει να έχετε λογαριασμό Google με συσχετισμένο Google Drive. Υποθέτοντας ότι έχετε και τα δύο (ο ακαδημαϊκός σας λογαριασμός είναι λογαριασμός google), μπορείτε να συνδέσετε το Colab στο Drive σας με τα ακόλουθα βήματα:\n",
        "\n",
        "1. Κάντε κλικ στον τροχό στην επάνω δεξιά γωνία (στο Google Drive) και επιλέξτε `Ρυθμίσεις`.\n",
        "2. Κάντε κλικ στην καρτέλα `Διαχείριση εφαρμογών`.\n",
        "3. Στο επάνω μέρος, επιλέξτε `Σύνδεση περισσότερων εφαρμογών` που θα εμφανίσουν ένα παράθυρο του `GSuite Marketplace`.\n",
        "4. Αναζητήστε το `Colab` και, στη συνέχεια, κάντε κλικ στην `Προσθήκη` (install).\n",
        "\n",
        "- Workflow:\n",
        "\n",
        "Η εργασία στη σελίδα ecourse του μαθήματος παρέχει έναν σύνδεσμο λήψης σε ένα αρχείο `assignment.zip` που περιέχει:\n",
        "1. `images/`, φάκελος με ενδεικτικές εικόνες των παρακάτω ζητημάτων.\n",
        "2. `assignment.ipynb`, το σημειωματάριo jupyter στο οποίο θα εργαστείτε και θα παραδώσετε.\n",
        "3. `tutorial1_pytorch_introduction.ipynb`, που περιλαμβάνει στοιχειώδη παραδείγματα με χρήση της βιλβιοθήκης βαθιάς μάθησης `PyTorch` (αφορά στη 2η εργασία).\n",
        "4. `Σημειώσεις PCA-SVD.pdf`, σημειώσεις που σχετίζονται με το ζήτημα **1.6** της **1ης** άσκησης.\n",
        "5. `Σημειώσεις CNN.pdf`, σημειώσεις που σχετίζονται με το ζήτημα **2.5** της **2ης** άσκησης.\n",
        "\n",
        "- Βέλτιστες πρακτικές:\n",
        "\n",
        "Υπάρχουν μερικά πράγματα που πρέπει να γνωρίζετε όταν εργάζεστε με την υπηρεσία Colab. Το πρώτο πράγμα που πρέπει να σημειωθεί είναι ότι οι πόροι δεν είναι εγγυημένοι (αυτό είναι το τίμημα της δωρεάν χρήσης). Εάν είστε σε αδράνεια για ένα συγκεκριμένο χρονικό διάστημα ή ο συνολικός χρόνος σύνδεσής σας υπερβαίνει τον μέγιστο επιτρεπόμενο χρόνο (~12 ώρες), το Colab VM θα αποσυνδεθεί. Αυτό σημαίνει ότι οποιαδήποτε μη αποθηκευμένη πρόοδος θα χαθεί. Έτσι, φροντίστε να αποθηκεύετε συχνά την υλοποίησή σας ενώ εργάζεστε.\n",
        "\n",
        "- Χρήση GPU:\n",
        "\n",
        "Η χρήση μιας GPU απαιτεί πολύ απλά την αλλαγή του τύπου εκτέλεσης (runtime) στο Colab. Συγκεκριμένα, κάντε κλικ `Runtime -> Change runtime type -> Hardware Accelerator -> GPU` και το στιγμιότυπο εκτέλεσής σας Colab θα υποστηρίζεται αυτόματα από επιταχυντή υπολογισμών GPU (αλλαγή τύπου χρόνου εκτέλεσης σε GPU ή TPU). Στην παρούσα εργασία, **δεν** θα χρειαστεί η χρήση GPU.\n",
        "\n",
        "\n",
        "**Working locally on your machine**\n",
        "\n",
        "**Linux**\n",
        "\n",
        "Εάν θέλετε να εργαστείτε τοπικά στον Η/Υ σας, θα πρέπει να χρησιμοποιήσετε ένα εικονικό περιβάλλον. Μπορείτε να εγκαταστήσετε ένα μέσω του [Anaconda](https://www.anaconda.com/products/distribution) (συνιστάται) ή μέσω της native μονάδας `venv` της Python. Βεβαιωθείτε ότι χρησιμοποιείτε (τουλάχιστον) έκδοση Python 3.7.\n",
        "\n",
        "- Εικονικό περιβάλλον Anaconda:\n",
        "Συνιστάται η χρήση της δωρεάν διανομής [Anaconda](https://www.anaconda.com/products/distribution), η οποία παρέχει έναν εύκολο τρόπο για να χειριστείτε τις εξαρτήσεις πακέτων. Μόλις εγκαταστήσετε το Anaconda, είναι εύχρηστο να δημιουργήσετε ένα εικονικό περιβάλλον για το μάθημα. Για να ρυθμίσετε ένα εικονικό περιβάλλον που ονομάζεται π.χ. `mye046`, εκτελέστε τα εξής στο τερματικό σας:\n",
        "`conda create -n mye046 python=3.7` (Αυτή η εντολή θα δημιουργήσει το περιβάλλον mye046 στη διαδρομή 'path/to/anaconda3/envs/')\n",
        "Για να ενεργοποιήσετε και να εισέλθετε στο περιβάλλον, εκτελέστε το `conda activate mye046`. Για να απενεργοποιήσετε το περιβάλλον, είτε εκτελέστε `conda deactivate mye046` είτε βγείτε από το τερματικό. Σημειώστε ότι κάθε φορά που θέλετε να εργαστείτε στην εργασία, θα πρέπει να εκτελείτε ξανά το `conda activate mye046`.\n",
        "\n",
        "- Εικονικό περιβάλλον Python venv:\n",
        "Για να ρυθμίσετε ένα εικονικό περιβάλλον που ονομάζεται mye046, εκτελέστε τα εξής στο τερματικό σας:\n",
        "`python3.7 -m venv ~/mye046`\n",
        "Για να ενεργοποιήσετε και να εισέλθετε στο περιβάλλον, εκτελέστε το `source ~/mye046/bin/activate`. Για να απενεργοποιήσετε το περιβάλλον, εκτελέστε: `deactivate` ή έξοδο από το τερματικό. Σημειώστε ότι κάθε φορά που θέλετε να εργαστείτε για την άσκηση, θα πρέπει να εκτελείτε ξανά το `source ~/mye046/bin/activate`.\n",
        "\n",
        "- Εκτέλεση Jupyter Notebook:\n",
        "Εάν θέλετε να εκτελέσετε το notebook τοπικά με το Jupyter, βεβαιωθείτε ότι το εικονικό σας περιβάλλον έχει εγκατασταθεί σωστά (σύμφωνα με τις οδηγίες εγκατάστασης που περιγράφονται παραπάνω για περιβάλλον linux), ενεργοποιήστε το και, στη συνέχεια, εκτελέστε `pip install notebook` για να εγκαταστήσετε το σημειωματάριο `Jupyter`. Στη συνέχεια, αφού κατεβάσετε και αποσυμπιέσετε το φάκελο της Άσκησης από τη σελίδα ecourse σε κάποιο κατάλογο της επιλογής σας, εκτελέστε `cd` σε αυτόν το φάκελο και στη συνέχεια εκτελέστε το σημειωματάριο `jupyter notebook`.\n",
        "Αυτό θα πρέπει να εκκινήσει αυτόματα έναν διακομιστή notebook στη διεύθυνση `http://localhost:8888`. Εάν όλα έγιναν σωστά, θα πρέπει να δείτε μια οθόνη που θα εμφανίζει όλα τα διαθέσιμα σημειωματάρια στον τρέχοντα κατάλογο, στην προκειμένη περίπτωση μόνο το `assignment.ipynb` (η εργασία σας). Κάντε κλικ στο `assignment.ipynb` και ακολουθήστε τις οδηγίες στο σημειωματάριο.\n",
        "\n",
        "\n",
        "**Windows**\n",
        "\n",
        "Τα πράγματα είναι πολύ πιο απλά στην περίπτωση που θέλετε να εργαστείτε τοπικά σε περιβάλλον `Windows`. Μπορείτε να εγκαταστήσετε την [Anaconda](https://www.anaconda.com/products/distribution) για Windows και στη συνέχεια να εκτελέσετε το [Anaconda Navigator](https://docs.anaconda.com/navigator/index.html) αναζητώντας το απευθείας στο πεδίο αναζήτησης δίπλα από το κουμπί `έναρξης` των Windows. Το εργαλείο αυτό παρέχει επίσης άμεσα προεγκατεστημένα, τα πακέτα λογισμικού Jupyter Notebook και JupyterLab τα οποία επιτρέπουν την προβολή και υλοποίηση του σημειοματαρίου Jupyter άμεσα και εύκολα (εκτελώντας το απευθείας από τη διαδρομή αρχείου που βρίσκεται). Ενδεχομένως, κατά την αποθήκευση/εξαγωγή του notebook `assignment.ipynb` σε `assignment.pdf`, να χρειαστεί η εγκατάσταση του πακέτου [Pandoc universal document converter](https://pandoc.org/installing.html) (εκτέλεση: `conda install -c conda-forge pandoc` μέσα από το command prompt του \"activated\" anaconda navigator). Εναλλακτικά, μπορεί να εκτυπωθεί ως PDF αρχείο (**βλ. Ενότητα**: Οδηγίες υποβολής).\n",
        "\n",
        "**Python**\n",
        "\n",
        "Θα χρησιμοποιήσουμε τη γλώσσα προγραμματισμού Python και στις 2 ασκήσεις, με μερικές δημοφιλείς βιβλιοθήκες (`NumPy`, `Matplotlib`) ενώ στη 2η άσκηση θα χρειαστεί και η βιβλιοθήκη βαθιάς μάθησης PyTorch. Αναμένεται ότι πολλοί από εσάς έχετε κάποια εμπειρία σε `Python` και `NumPy`. Και αν έχετε πρότερη εμπειρία σε `MATLAB`, μπορείτε να δείτε επίσης το σύνδεσμο [NumPy for MATLAB users](https://numpy.org/doc/stable/user/numpy-for-matlab-users.html)."
      ]
    },
    {
      "cell_type": "markdown",
      "metadata": {
        "tags": [],
        "toc-hr-collapsed": true,
        "id": "wcm4vxrHn-TW"
      },
      "source": [
        "## Άσκηση 1: Μηχανική Μάθηση [15 μονάδες]"
      ]
    },
    {
      "cell_type": "markdown",
      "metadata": {
        "id": "m16Ecnjdl4tk"
      },
      "source": [
        "Στην άσκηση αυτή θα υλοποιήσετε μια σειρά από παραδοσιακές τεχνικές μηχανικής μάθησης με εφαρμογή στην επίλυση προβλημάτων υπολογιστικής όρασης."
      ]
    },
    {
      "cell_type": "markdown",
      "metadata": {
        "id": "zQpyhnvIl4tk"
      },
      "source": [
        "### Ζήτημα 1.1: Αρχική Εγκατάσταση"
      ]
    },
    {
      "cell_type": "markdown",
      "metadata": {
        "id": "CCC0JD1Il4tl"
      },
      "source": [
        "Θα χρησιμοποιήσουμε την ενότητα [Scikit-learn (Sklearn)](https://scikit-learn.org/stable/) για αυτή την άσκηση. Είναι μια από τις πιο χρήσιμες και ισχυρές βιβλιοθήκες για μηχανική μάθηση στην Python. Παρέχει μια επιλογή αποτελεσματικών εργαλείων για μηχανική μάθηση και στατιστική μοντελοποίηση, συμπεριλαμβανομένης της ταξινόμησης (classification), της παλινδρόμησης (regression), της ομαδοποίησης (clustering) και της μείωσης διάστασης (dimensionality reduction). Αυτό το πακέτο, το οποίο είναι σε μεγάλο βαθμό γραμμένο σε Python, βασίζεται στις βιβλιοθήκες NumPy, SciPy και Matplotlib.\n",
        "\n",
        "Αρχικά καλούμε/εγκαθιστούμε τη βασική μονάδα της βιβλιοθήκης sklearn."
      ]
    },
    {
      "cell_type": "code",
      "execution_count": 1,
      "metadata": {
        "id": "8ZiYlaSol4tm",
        "colab": {
          "base_uri": "https://localhost:8080/",
          "height": 35
        },
        "outputId": "b9500ca6-41f1-48cc-8d85-dcc69e278380"
      },
      "outputs": [
        {
          "output_type": "execute_result",
          "data": {
            "text/plain": [
              "'1.6.0'"
            ],
            "application/vnd.google.colaboratory.intrinsic+json": {
              "type": "string"
            }
          },
          "metadata": {},
          "execution_count": 1
        }
      ],
      "source": [
        "import sklearn\n",
        "sklearn.__version__"
      ]
    },
    {
      "cell_type": "markdown",
      "metadata": {
        "id": "0SQL5iPKl4to"
      },
      "source": [
        "### Ζήτημα 1.2: Λήψη συνόλου δεδομένων χειρόγραφων ψηφίων \"MNIST\" και απεικόνιση παραδειγμάτων [1 μονάδα]"
      ]
    },
    {
      "cell_type": "markdown",
      "metadata": {
        "id": "-_f1_Tz7l4tq"
      },
      "source": [
        "Η βάση δεδομένων [MNIST](https://en.wikipedia.org/wiki/MNIST_database) (Modified National Institute of Standards and Technology database) είναι ένα αρκετά διαδεδομένο σύνολο δεδομένων που αποτελείται από εικόνες χειρόγραφων ψηφίων, διαστάσεων 28x28 σε κλίμακα του γκρι. Για αυτό το ζήτημα, θα χρησιμοποιήσουμε το πακέτο Sklearn για να κάνουμε ταξινόμηση μηχανικής μάθησης στο σύνολο δεδομένων MNIST.\n",
        "\n",
        "Το Sklearn παρέχει μια βάση δεδομένων MNIST χαμηλότερης ανάλυσης με εικόνες ψηφίων 8x8 pixel. Το πεδίο (attribute) `images` του συνόλου δεδομένων, αποθηκεύει πίνακες 8x8 τιμών κλίμακας του γκρι για κάθε εικόνα. Το πεδίο (attribute) `target` του συνόλου δεδομένων αποθηκεύει το ψηφίο που αντιπροσωπεύει κάθε εικόνα. Ολοκληρώστε τη συνάρτηση `plot_mnist_sample()` για να απεικονίσετε σε ένα σχήμα 2x5 ένα δείγμα εικόνας από κάθε μια κατηγορία (κάθε πλαίσιο του 2x5 σχήματος αντιστοιχεί σε ένα ψηφίο/εικόνα μιας κατηγορίας). Η παρακάτω εικόνα δίνει ένα παράδειγμα:\n",
        "<!-- <img src=\"./images/examples_mnist.PNG\" alt=\"drawing\" width=\"400\"/> -->\n",
        "![mnist](images/examples_mnist.PNG)"
      ]
    },
    {
      "cell_type": "code",
      "execution_count": 2,
      "metadata": {
        "id": "vbXpRqO1l4tq"
      },
      "outputs": [],
      "source": [
        "import numpy as np\n",
        "import matplotlib.pyplot as plt\n",
        "from sklearn import datasets"
      ]
    },
    {
      "cell_type": "code",
      "execution_count": 3,
      "metadata": {
        "id": "3PTXSZhWl4tr",
        "colab": {
          "base_uri": "https://localhost:8080/"
        },
        "outputId": "e59307b4-704c-4fa0-82e0-ec7814cb0fef"
      },
      "outputs": [
        {
          "output_type": "stream",
          "name": "stdout",
          "text": [
            "Images Shape (1797, 8, 8)\n",
            "Image Data Shape (1797, 64)\n",
            "Label Data Shape (1797,)\n"
          ]
        }
      ],
      "source": [
        "# Download MNIST Dataset from Sklearn\n",
        "digits = datasets.load_digits()\n",
        "\n",
        "# Print to show there are 1797 images (8 by 8)\n",
        "print(\"Images Shape\" , digits.images.shape)\n",
        "\n",
        "# Print to show there are 1797 image data (8 by 8 images for a dimensionality of 64)\n",
        "print(\"Image Data Shape\" , digits.data.shape)\n",
        "\n",
        "# Print to show there are 1797 labels (integers from 0-9)\n",
        "print(\"Label Data Shape\", digits.target.shape)"
      ]
    },
    {
      "cell_type": "code",
      "execution_count": 4,
      "metadata": {
        "id": "p43geFB4l4tr"
      },
      "outputs": [],
      "source": [
        "def plot_mnist_sample(digits):\n",
        "    \"\"\"\n",
        "    This function plots a sample image for each category,\n",
        "    The result is a figure with 2x5 grid of images.\n",
        "\n",
        "    \"\"\"\n",
        "    plot = plt.figure()\n",
        "\n",
        "    \"\"\" ==========\n",
        "    YOUR CODE HERE\n",
        "    ========== \"\"\"\n",
        "\n",
        "    for i in range(10):\n",
        "        # For each label 0-9 that represents each digit\n",
        "        label= digits.target[i]\n",
        "        # find an image withn this label\n",
        "        image = digits.images[label]\n",
        "\n",
        "        # add subplot with 2 rows and 5 columns in position i+1\n",
        "        ax = plot.add_subplot(2, 5, i + 1)\n",
        "        ax.imshow(image, cmap='gray')  # Display the image in grayscale\n",
        "        ax.set_title(f\"Train: {i}\")  # Add a title like thw example\n",
        "        ax.axis('off')  # Remove the axis for cleaner visualization\n",
        "\n"
      ]
    },
    {
      "cell_type": "code",
      "execution_count": 5,
      "metadata": {
        "id": "xEj8kOdul4tr",
        "colab": {
          "base_uri": "https://localhost:8080/",
          "height": 346
        },
        "outputId": "0a69300d-f627-481f-81f9-4a6e9b46348c"
      },
      "outputs": [
        {
          "output_type": "display_data",
          "data": {
            "text/plain": [
              "<Figure size 640x480 with 10 Axes>"
            ],
            "image/png": "[encoded data removed]"
          },
          "metadata": {}
        }
      ],
      "source": [
        "# PLOT CODE: DO NOT CHANGE\n",
        "# This code is for you to plot the results.\n",
        "\n",
        "plot_mnist_sample(digits)"
      ]
    },
    {
      "cell_type": "markdown",
      "metadata": {
        "id": "sD68VE3pl4ts"
      },
      "source": [
        "### Ζήτημα 1.3: Αναγνώριση χειρόγραφων ψηφίων με Sklearn [2 μονάδες]"
      ]
    },
    {
      "cell_type": "markdown",
      "metadata": {
        "id": "W3ctL_Gwl4ts"
      },
      "source": [
        "Ένα από τα πιο ενδιαφέροντα πράγματα σχετικά με τη βιβλιοθήκη Sklearn είναι ότι παρέχει έναν εύκολο τρόπο δημιουργίας και κλήσης/χρήσης διαφορετικών μοντέλων. Σε αυτό το μέρος της άσκησης, θα αποκτήσετε εμπειρία με τα μοντέλα ταξινόμησης `LogisticRegressionClassifier` (ταξινόμηση με λογιστική παλινδρόμηση) και `kNNCalssifier` (ταξινόμηση με τη μέθοδο κ-κοντινότερων γειτόνων).\n",
        "\n",
        "Ακολουθούν αρχικά 2 βοηθητικές ρουτίνες: 1) μια *ρουτίνα δημιουργίας* mini-batches (παρτίδων) δεδομένων *εκπαίδευσης* και *ελέγχου*, αντίστοιχα, 2) μια *ρουτίνα ελέγχου* του εκάστοτε ταξινομητή στις παρτίδες δεδομένων (train/test): α) RandomClassifier(), β) LogisticRegressionClassifier(), γ) kNNClassifier καθώς και των ταξινομητών των ζητημάτων 1.4, 1.5, 1.6 και 2.2, 2.4, 2.5. Στη συνέχεια η συνάρτηση train_test_split() διαχωρίζει το σύνολο δεδομένων σε δεδομένα μάθησης (training set: <X_train, y_train>) και ελέγχου (test set: <X_test, y_test>).\n",
        "\n",
        "Ο κώδικας που ακολουθεί στη συνέχεια ορίζει κάποιες συναρτήσεις/μεθόδους για 3 ταξινομητές: 2 για τον RandomClassifier() και 3 μεθόδους για τους ταξινομητές LogisticRegressionClassifier() και kNNClassifier(). Οι 2 τελευταίες κλάσσεις έχουν μια μέθοδο __init__ για αρχικοποίηση, μια μέθοδο **train** για την εκπαίδευση του μοντέλου και μια μέθοδο __call__ για την πραγματοποίηση προβλέψεων. Πρέπει να συμπληρώσετε τα μέρη κώδικα που λείπουν από τις κλάσεις LogisticRegressionClassifier και kNNClassifier, χρησιμοποιώντας τις υλοποιήσεις `LogisticRegression` και `KNeighborsClassifier` από το Sklearn. Τέλος να συμπληρώσετε τον κώδικα για την αξιολόγηση του `KNeighborsClassifier` ταξινομητή στο σύνολο ελέγχου."
      ]
    },
    {
      "cell_type": "code",
      "execution_count": 6,
      "metadata": {
        "id": "bDZ8BK3Ol4ts"
      },
      "outputs": [],
      "source": [
        "# DO NOT CHANGE\n",
        "#### Some helper functions are given below####\n",
        "def DataBatch(data, label, batchsize, shuffle=True):\n",
        "    \"\"\"\n",
        "    This function provides a generator for batches of data that\n",
        "    yields data (batchsize, 3, 32, 32) and labels (batchsize)\n",
        "    if shuffle, it will load batches in a random order\n",
        "    \"\"\"\n",
        "    n = data.shape[0]\n",
        "    if shuffle:\n",
        "        index = np.random.permutation(n)\n",
        "    else:\n",
        "        index = np.arange(n)\n",
        "    for i in range(int(np.ceil(n/batchsize))):\n",
        "        inds = index[i*batchsize : min(n,(i+1)*batchsize)]\n",
        "        yield data[inds], label[inds]\n",
        "\n",
        "def test(testData, testLabels, classifier):\n",
        "    \"\"\"\n",
        "    Call this function to test the accuracy of a classifier\n",
        "    \"\"\"\n",
        "    batchsize=50\n",
        "    correct=0.\n",
        "    for data,label in DataBatch(testData,testLabels,batchsize,shuffle=False):\n",
        "        prediction = classifier(data)\n",
        "        correct += np.sum(prediction==label)\n",
        "    return correct/testData.shape[0]*100"
      ]
    },
    {
      "cell_type": "code",
      "execution_count": 7,
      "metadata": {
        "id": "QQ0N2RCZl4tt"
      },
      "outputs": [],
      "source": [
        "# DO NOT CHANGE\n",
        "# Split data into 90% train and 10% test subsets\n",
        "from sklearn.model_selection import train_test_split\n",
        "\n",
        "X_train, X_test, y_train, y_test = train_test_split(\n",
        "    digits.images.reshape((len(digits.images), -1)), digits.target, test_size=0.1, shuffle=False)"
      ]
    },
    {
      "cell_type": "code",
      "execution_count": 8,
      "metadata": {
        "id": "m6JnXh3jl4tt"
      },
      "outputs": [],
      "source": [
        "from sklearn.linear_model import LogisticRegression\n",
        "from sklearn.neighbors import KNeighborsClassifier\n",
        "\n",
        "class RandomClassifier():\n",
        "    \"\"\"\n",
        "    This is a sample classifier.\n",
        "    given an input it outputs a random class\n",
        "    \"\"\"\n",
        "    def __init__(self, classes=10):\n",
        "        self.classes=classes\n",
        "    def __call__(self, x):\n",
        "        return np.random.randint(self.classes, size=x.shape[0])\n",
        "\n",
        "class LogisticRegressionClassifier():\n",
        "    def __init__(self, sol='liblinear'):\n",
        "        \"\"\"\n",
        "        Initialize Logistic Regression model.\n",
        "\n",
        "        Inputs:\n",
        "        sol: Solver method that the Logistic Regression model would use for optimization\n",
        "        \"\"\"\n",
        "        \"\"\" ==========\n",
        "        YOUR CODE HERE\n",
        "        ========== \"\"\"\n",
        "        self.model = LogisticRegression(solver=sol) #Initializing Logistic Regression model\n",
        "\n",
        "\n",
        "    def train(self, trainData, trainLabels):\n",
        "        \"\"\"\n",
        "        Train your model with image data and corresponding labels.\n",
        "\n",
        "        Inputs:\n",
        "        trainData: Training images (N,64)\n",
        "        trainLabels: Labels (N,)\n",
        "        \"\"\"\n",
        "        \"\"\" ==========\n",
        "        YOUR CODE HERE\n",
        "        ========== \"\"\"\n",
        "        self.model.fit(trainData, trainLabels) #Train model\n",
        "\n",
        "\n",
        "    def __call__(self, x):\n",
        "        \"\"\"\n",
        "        Predict the trained model on test data.\n",
        "\n",
        "        Inputs:\n",
        "        x: Test images (N,64)\n",
        "\n",
        "        Returns:\n",
        "        predicted labels (N,)\n",
        "        \"\"\"\n",
        "        \"\"\" ==========\n",
        "        YOUR CODE HERE\n",
        "        ========== \"\"\"\n",
        "        return self.model.predict(x) # Predict the trained model\n",
        "\n",
        "class kNNClassifier():\n",
        "    def __init__(self, k=3, algorithm='brute'):\n",
        "        \"\"\"\n",
        "        Initialize KNN model.\n",
        "\n",
        "        Inputs:\n",
        "        k: number of neighbors involved in voting\n",
        "        algorithm: Algorithm used to compute nearest neighbors\n",
        "        \"\"\"\n",
        "        \"\"\" ==========\n",
        "        YOUR CODE HERE\n",
        "        ========== \"\"\"\n",
        "        self.model = KNeighborsClassifier(n_neighbors=k, algorithm=algorithm) # Initializing KNN model.\n",
        "\n",
        "\n",
        "    def train(self, trainData, trainLabels):\n",
        "        \"\"\"\n",
        "        Train your model with image data and corresponding labels.\n",
        "\n",
        "        Inputs:\n",
        "        trainData: Training images (N,64)\n",
        "        trainLabels: Labels (N,)\n",
        "        \"\"\"\n",
        "        \"\"\" ==========\n",
        "        YOUR CODE HERE\n",
        "        ========== \"\"\"\n",
        "        self.model.fit(trainData, trainLabels) #Train  model\n",
        "\n",
        "\n",
        "    def __call__(self, x):\n",
        "        \"\"\"\n",
        "        Predict the trained model on test data.\n",
        "\n",
        "        Inputs:\n",
        "        x: Test images (N,64)\n",
        "\n",
        "        Returns:\n",
        "        predicted labels (N,)\n",
        "        \"\"\"\n",
        "        \"\"\" ==========\n",
        "        YOUR CODE HERE\n",
        "        ========== \"\"\"\n",
        "        return self.model.predict(x) #Predict the trained model\n"
      ]
    },
    {
      "cell_type": "code",
      "execution_count": 9,
      "metadata": {
        "id": "ZQ9k9kw-l4tt",
        "colab": {
          "base_uri": "https://localhost:8080/"
        },
        "outputId": "69e69bd8-1d6a-4849-9f05-e768d54f53bb"
      },
      "outputs": [
        {
          "output_type": "stream",
          "name": "stdout",
          "text": [
            "Random classifier accuracy: 11.111111\n"
          ]
        }
      ],
      "source": [
        "# TEST CODE: DO NOT CHANGE\n",
        "randomClassifierX = RandomClassifier()\n",
        "print ('Random classifier accuracy: %f'%test(X_test, y_test, randomClassifierX))"
      ]
    },
    {
      "cell_type": "code",
      "execution_count": 10,
      "metadata": {
        "id": "tOGbN8GDl4tu",
        "colab": {
          "base_uri": "https://localhost:8080/"
        },
        "outputId": "a195b7d4-2a0c-43dd-e017-6d261c4abbdb"
      },
      "outputs": [
        {
          "output_type": "stream",
          "name": "stdout",
          "text": [
            "Logistic Regression Classifier classifier accuracy: 93.888889\n"
          ]
        }
      ],
      "source": [
        "# TEST CODE: DO NOT CHANGE\n",
        "# TEST LogisticRegressionClassifier\n",
        "\n",
        "lrClassifierX = LogisticRegressionClassifier()\n",
        "lrClassifierX.train(X_train, y_train)\n",
        "print ('Logistic Regression Classifier classifier accuracy: %f'%test(X_test, y_test, lrClassifierX))"
      ]
    },
    {
      "cell_type": "code",
      "execution_count": 11,
      "metadata": {
        "id": "WN3IyTafl4tu",
        "colab": {
          "base_uri": "https://localhost:8080/"
        },
        "outputId": "55e26739-303b-4f07-9efd-4b22007f359b"
      },
      "outputs": [
        {
          "output_type": "stream",
          "name": "stdout",
          "text": [
            "k-NN Classifier accuracy: 96.666667\n"
          ]
        }
      ],
      "source": [
        "# TEST kNNClassifier\n",
        "\"\"\" ==========\n",
        "YOUR CODE HERE\n",
        "========== \"\"\"\n",
        "\n",
        "knnClassifierX = kNNClassifier()  # the same testing code as for LogisticRegressionClassifier above but for kNNClassifie\n",
        "knnClassifierX.train(X_train, y_train)\n",
        "\n",
        "print('k-NN Classifier accuracy: %f' % test(X_test, y_test, knnClassifierX))\n"
      ]
    },
    {
      "cell_type": "markdown",
      "metadata": {
        "id": "jt39SvrEl4tv"
      },
      "source": [
        "### Ζήτημα 1.4: Πίνακας Σύγχυσης [2 μονάδες]"
      ]
    },
    {
      "cell_type": "markdown",
      "metadata": {
        "id": "9jm0Zmzcl4tv"
      },
      "source": [
        "Ένας πίνακας σύγχυσης είναι ένας 2Δ πίνακας που χρησιμοποιείται συχνά για να περιγράψει την απόδοση ενός μοντέλου ταξινόμησης σε ένα σύνολο δεδομένων ελέγχου/δοκιμής (test data) για τα οποία είναι γνωστές οι πραγματικές τιμές (known labels). Εδώ θα υλοποιήσετε τη συνάρτηση που υπολογίζει τον πίνακα σύγχυσης για έναν ταξινομητή. Ο πίνακας (M) πρέπει να είναι $n \\times n$ όπου $n$ είναι ο αριθμός των κλάσεων/κατηγοριών. Η καταχώριση `M[i,j]` πρέπει να περιέχει το ποσοστό/λόγο των εικόνων της κατηγορίας `i` που ταξινομήθηκε ως κατηγορία `j`. Αν οι καταχωρήσεις `M[i,j]` έχουν υπολογιστεί σωστά, τότε τα στοιχεία `M[k,j]` κατά μήκος μιας γραμμής $k$ για $j \\neq k$ (εκτός της κύριας διαγωνίου) αναμένεται να αντιστοιχούν σε \"ψευδώς αρνητικές\" ταξινομήσεις (false negatives), ενώ τα στοιχεία `M[i,k]` κατά μήκος μιας στήλης $k$ για $i \\neq k$ (εκτός της κύριας διαγωνίου) αναμένεται να αντιστοιχούν σε \"ψευδώς θετικές\" ταξινομήσεις (false positives). Το ακόλουθο παράδειγμα δείχνει τον πίνακα σύγχυσης για τον `RandomClassifier` ταξινομητή. Ο στόχος σας είναι να σχεδιάσετε τα αποτελέσματα για τον `LogisticRegressionClassifier` και τον `kNNClassifier` ταξινομητή. *Να δώσετε προσοχή* στο άθροισμα των στοιχείων μιας γραμμής (false negatives) `M[i,:]` ώστε να αθροίζει σωστά, στο συνολικό ποσοστό ταξινόμησης (100% ή 1). Αν δεν συμβαίνει κάτι τέτοιο, μπορεί να χρειαστείτε κανονικοποίηση των τιμών.\n",
        "\n",
        "<!-- <img src=\"./images/eg_confusion.PNG\" alt=\"drawing\" width=\"250\"/> -->\n",
        "![confusion](images/eg_confusion.PNG)"
      ]
    },
    {
      "cell_type": "code",
      "execution_count": 12,
      "metadata": {
        "id": "HP43z3lOl4tv"
      },
      "outputs": [],
      "source": [
        "from tqdm import tqdm\n",
        "\n",
        "def Confusion(testData, testLabels, classifier):\n",
        "    batchsize=50\n",
        "    correct=0\n",
        "    M=np.zeros((10,10))\n",
        "    num=testData.shape[0]/batchsize\n",
        "    count=0\n",
        "    acc=0\n",
        "\n",
        "    for data,label in tqdm(DataBatch(testData,testLabels,batchsize,shuffle=False),total=len(testData)//batchsize):\n",
        "        predictions = classifier(data)\n",
        "        for i in range(len(label)):\n",
        "            true_label = label[i]\n",
        "            predicted_label = predictions[i]\n",
        "            M[true_label, predicted_label] += 1\n",
        "            count += 1\n",
        "\n",
        "    # Calculate accuracy - Uncomment following line if it is required by your solution above\n",
        "\n",
        "\n",
        "    # Normalize values because they add up to more than 1\n",
        "    for i in range(10):\n",
        "        row_sum = np.sum(M[i, :])\n",
        "        if row_sum > 0:  # Avoid division by zero\n",
        "            M[i, :] = M[i, :] / row_sum\n",
        "\n",
        "    acc = correct / count * 100.0\n",
        "\n",
        "    return M, acc\n",
        "\n",
        "def VisualizeConfussion(M):\n",
        "    plt.figure(figsize=(14, 6))\n",
        "    plt.imshow(M)\n",
        "    plt.show()\n",
        "    print(np.round(M,2))"
      ]
    },
    {
      "cell_type": "code",
      "execution_count": 13,
      "metadata": {
        "id": "suvefA82l4tv",
        "colab": {
          "base_uri": "https://localhost:8080/",
          "height": 713
        },
        "outputId": "e7439ca7-2326-4306-fe49-bb26bf7b9714"
      },
      "outputs": [
        {
          "output_type": "stream",
          "name": "stderr",
          "text": [
            "4it [00:00, 1099.35it/s]             \n"
          ]
        },
        {
          "output_type": "display_data",
          "data": {
            "text/plain": [
              "<Figure size 1400x600 with 1 Axes>"
            ],
            "image/png": "[encoded data removed]"
          },
          "metadata": {}
        },
        {
          "output_type": "stream",
          "name": "stdout",
          "text": [
            "[[1.   0.   0.   0.   0.   0.   0.   0.   0.   0.  ]\n",
            " [0.   0.89 0.   0.   0.05 0.   0.   0.   0.05 0.  ]\n",
            " [0.   0.   1.   0.   0.   0.   0.   0.   0.   0.  ]\n",
            " [0.   0.   0.   0.67 0.   0.11 0.   0.   0.22 0.  ]\n",
            " [0.   0.   0.   0.   0.9  0.   0.   0.   0.   0.1 ]\n",
            " [0.   0.   0.   0.   0.   1.   0.   0.   0.   0.  ]\n",
            " [0.   0.   0.   0.   0.   0.   1.   0.   0.   0.  ]\n",
            " [0.   0.   0.   0.   0.   0.   0.   1.   0.   0.  ]\n",
            " [0.   0.   0.   0.   0.   0.   0.   0.   1.   0.  ]\n",
            " [0.   0.   0.   0.06 0.   0.   0.   0.   0.   0.94]]\n"
          ]
        }
      ],
      "source": [
        "# TEST/PLOT CODE: DO NOT CHANGE\n",
        "# TEST LogisticRegressionClassifier\n",
        "\n",
        "M,acc = Confusion(X_test, y_test, lrClassifierX)\n",
        "VisualizeConfussion(M)"
      ]
    },
    {
      "cell_type": "code",
      "execution_count": 14,
      "metadata": {
        "id": "YWZFcKjal4tw",
        "colab": {
          "base_uri": "https://localhost:8080/",
          "height": 713
        },
        "outputId": "255174a9-fb77-42b9-8fd4-1e44f717bc8b"
      },
      "outputs": [
        {
          "output_type": "stream",
          "name": "stderr",
          "text": [
            "4it [00:00, 191.34it/s]              \n"
          ]
        },
        {
          "output_type": "display_data",
          "data": {
            "text/plain": [
              "<Figure size 1400x600 with 1 Axes>"
            ],
            "image/png": "[encoded data removed]"
          },
          "metadata": {}
        },
        {
          "output_type": "stream",
          "name": "stdout",
          "text": [
            "[[1.   0.   0.   0.   0.   0.   0.   0.   0.   0.  ]\n",
            " [0.   1.   0.   0.   0.   0.   0.   0.   0.   0.  ]\n",
            " [0.   0.   1.   0.   0.   0.   0.   0.   0.   0.  ]\n",
            " [0.   0.   0.06 0.89 0.   0.06 0.   0.   0.   0.  ]\n",
            " [0.   0.   0.   0.   0.95 0.   0.   0.   0.   0.05]\n",
            " [0.   0.   0.   0.   0.   1.   0.   0.   0.   0.  ]\n",
            " [0.   0.   0.   0.   0.   0.   1.   0.   0.   0.  ]\n",
            " [0.   0.   0.   0.   0.   0.   0.   1.   0.   0.  ]\n",
            " [0.   0.06 0.   0.   0.   0.   0.   0.   0.94 0.  ]\n",
            " [0.   0.   0.   0.06 0.   0.06 0.   0.   0.   0.89]]\n"
          ]
        }
      ],
      "source": [
        "# TEST/PLOT CODE: DO NOT CHANGE\n",
        "# TEST kNNClassifier\n",
        "\n",
        "M,acc = Confusion(X_test, y_test, knnClassifierX)\n",
        "VisualizeConfussion(M)"
      ]
    },
    {
      "cell_type": "markdown",
      "metadata": {
        "id": "0HnFGSRFl4tw"
      },
      "source": [
        "### Ζήτημα 1.5: κ-Κοντινότεροι Γείτονες (k-Nearest Neighbors/kNN) [4 μονάδες]"
      ]
    },
    {
      "cell_type": "markdown",
      "metadata": {
        "id": "1l8Vxkoil4tw"
      },
      "source": [
        "Για αυτό το πρόβλημα, θα ολοκληρώσετε έναν απλό ταξινομητή kNN χωρίς χρήση του πακέτου Sklearn. Η μέτρηση της απόστασης είναι η Ευκλείδεια απόσταση (L2 norm) στον χώρο των pixel, την οποία και θα πρέπει να υλοποιήσετε (`euclidean_distance`). Το $k$ αναφέρεται στον αριθμό των γειτόνων που συμμετέχουν στην ψηφοφορία για την ομάδα/κλάση. Έπειτα, θα πρέπει να υλοποιήσετε την `find_k_nearest_neighbors` που υπολογίζει την απόσταση του δοθέντος δείγματος από όλα τα δείγματα εκπαίδευσης, ταξινομεί τις αποστάσεις και επιστρέφει τους δείκτες των $k$ κοντινότερων γειτόνων. Τέλος, για κάθε δείγμα του συνόλου δοκιμών, μέσω της ρουτίνας `__call__` βρίσκετε τους $k$ κοντινότερους γείτονες και εκτελείτε \"ψηφοφορία\" για την προβλεπόμενη κλάση."
      ]
    },
    {
      "cell_type": "code",
      "execution_count": 15,
      "metadata": {
        "id": "C-D-znLZl4tx"
      },
      "outputs": [],
      "source": [
        "from collections import Counter\n",
        "\n",
        "class kNNClassifier_v1_5():\n",
        "\n",
        "    def __init__(self, k=3):\n",
        "        self.k = k\n",
        "\n",
        "    def train(self, trainData, trainLabels):\n",
        "\n",
        "        \"\"\"Stores the training data.\"\"\"\n",
        "        self.X_train = trainData\n",
        "        self.y_train = trainLabels\n",
        "\n",
        "    def euclidean_distance(self, x1, x2):\n",
        "        \"\"\"Calculates the Euclidean distance between two vectors.\"\"\"\n",
        "        \"\"\" ==========\n",
        "        YOUR CODE HERE\n",
        "        ========== \"\"\"\n",
        "\n",
        "        return np.sqrt(np.sum((x1 - x2)**2))\n",
        "\n",
        "    def find_k_nearest_neighbors(self, x):\n",
        "        \"\"\"\n",
        "        Finds the k nearest neighbors for the given x.\n",
        "        Returns:\n",
        "        - indices: Indices of the k nearest neighbors.\n",
        "        \"\"\"\n",
        "        \"\"\" ==========\n",
        "        YOUR CODE HERE\n",
        "        ========== \"\"\"\n",
        "         # Calculate distances between x and all training samples\n",
        "        distances = [self.euclidean_distance(x_train, x) for x_train in self.X_train]\n",
        "\n",
        "        # Sort by distance and get indices\n",
        "        indices = np.argsort(distances)\n",
        "\n",
        "        # Select the first k indices\n",
        "        return indices[:self.k]\n",
        "\n",
        "\n",
        "    def __call__(self, X):\n",
        "        \"\"\"\n",
        "        Predicts the labels for the input data using the kNN method.\n",
        "        Input:\n",
        "        - X: Test data array (N, d=64), where N is the number of samples and d\n",
        "        ,→is the dimensionality.\n",
        "        Returns:\n",
        "        - predicted_labels: Array of predicted labels (N,).\n",
        "        \"\"\"\n",
        "\n",
        "        predicted_labels = []\n",
        "\n",
        "        # For each nearest k\n",
        "        for x in X:\n",
        "\n",
        "            # Find the k nearest neighbors\n",
        "            k_nearest = self.find_k_nearest_neighbors(x)\n",
        "\n",
        "            # Store corresponding Labels of the k neighbors\n",
        "            k_labels = [self.y_train[i] for i in k_nearest]\n",
        "\n",
        "            # Count the most frequent label\n",
        "            most_common = Counter(k_labels).most_common(1)\n",
        "            predicted_labels.append(most_common[0][0])\n",
        "\n",
        "        return np.array(predicted_labels)\n",
        "        \"\"\" ==========\n",
        "        YOUR CODE HERE\n",
        "        ========== \"\"\"\n"
      ]
    },
    {
      "cell_type": "code",
      "execution_count": 16,
      "metadata": {
        "id": "wPVvwhp0l4tx",
        "colab": {
          "base_uri": "https://localhost:8080/"
        },
        "outputId": "a8ba57e0-d572-43b6-c4bf-8bd4cbfd9f99"
      },
      "outputs": [
        {
          "output_type": "stream",
          "name": "stdout",
          "text": [
            "kNN classifier accuracy: 96.111111\n"
          ]
        }
      ],
      "source": [
        "# TEST/PLOT CODE: DO NOT CHANGE\n",
        "# TEST kNNClassifierManual\n",
        "\n",
        "knnClassifierManualX = kNNClassifier_v1_5()\n",
        "knnClassifierManualX.train(X_train, y_train)\n",
        "print ('kNN classifier accuracy: %f'%test(X_test, y_test, knnClassifierManualX))"
      ]
    },
    {
      "cell_type": "markdown",
      "metadata": {
        "id": "jZQQIiKPnRQF"
      },
      "source": [
        "### Ζήτημα 1.6: PCA + κ-κοντινότεροι γείτονες (PCA/k-NN) [6 μονάδες]\n",
        "\n",
        "Σε αυτό το ζήτημα θα εφαρμόσετε έναν απλό ταξινομητή kNN, αλλά στον χώρο PCA, δηλαδή όχι τον χώρο των πίξελ, αλλά αυτόν\n",
        "που προκύπτει μετά από ανάλυση σε πρωτεύουσες συνιστώσες των εικόνων του συνόλου εκπαίδευσης (για k=3 και 25 πρωτεύουσες συνιστώσες).\n",
        "\n",
        "Θα πρέπει να υλοποιήσετε μόνοι σας την PCA χρησιμοποιώντας \"Singular Value Decomposition (SVD)\".\n",
        "Η χρήση του `sklearn.decomposition.PCA` ή οποιουδήποτε άλλου πακέτου που υλοποιεί άμεσα μετασχηματισμούς PCA **θα οδηγήσει σε μείωση μονάδων**. Μπορείτε να χρησιμοποιήσετε τη ρουτίνα `np.linalg.eigh` για την υλοποίησή σας. Προσοχή στον χειρισμό μηδενικών `singular values` μέσα στην υλοποίηση της `svd`.\n",
        "\n",
        "Μπορείτε να χρησιμοποιήσετε την προηγούμενη υλοποίηση του ταξινομητή `kNNClassifier_v1_5` σε αυτό το ζήτημα (Υπόδειξη: ορισμός πεδίου `self.knn = ...` μέσα στην `__init__`). Διαφορετικά, μπορείτε να υλοποιήσετε εκ νέου τον ταξινομητή kNN μέσα στην `__call__` με χρήση της `np.linalg.norm`. Μη ξεχάσετε να καλέσετε την προηγούμενη υλοποίηση του πίνακα σύγχυσης `Confusion` για την αξιολόγηση της μεθόδου στο τέλος του ζητήματος.\n",
        "\n",
        "Είναι ο χρόνος ελέγχου για τον ταξινομητή PCA-kNN μεγαλύτερος ή μικρότερος από αυτόν για τον ταξινομητή kNN; Εφόσον διαφέρει, **σχολιάστε** γιατί στο τέλος της άσκησης."
      ]
    },
    {
      "cell_type": "code",
      "execution_count": 17,
      "metadata": {
        "id": "e06z90dxm7Af",
        "scrolled": true,
        "tags": [],
        "colab": {
          "base_uri": "https://localhost:8080/"
        },
        "outputId": "661a5e52-766d-4b1c-e523-63b4e38a775d"
      },
      "outputs": [
        {
          "output_type": "stream",
          "name": "stdout",
          "text": [
            "PCA-kNN classifier accuracy: 85.000000\n"
          ]
        }
      ],
      "source": [
        "def svd(A):\n",
        "    \"\"\" ==========\n",
        "    YOUR CODE HERE\n",
        "    ========== \"\"\"\n",
        "    ATA = np.dot(A.T, A)\n",
        "\n",
        "    # Calculate V\n",
        "    eigenvalues, V = np.linalg.eigh(ATA)\n",
        "\n",
        "    # Sort eigenvalues and eigenvectors\n",
        "    idx = np.argsort(eigenvalues)[::-1]\n",
        "    eigenvalues = eigenvalues[idx]\n",
        "    V = V[:, idx]\n",
        "\n",
        "    singular_values = np.sqrt(np.maximum(eigenvalues, 0))\n",
        "\n",
        "    # Calculate U\n",
        "    U = np.zeros((A.shape[0], len(singular_values)))\n",
        "\n",
        "    for i in range(len(singular_values)):\n",
        "        if singular_values[i] > 0:\n",
        "            U[:, i] = np.dot(A, V[:, i]) / singular_values[i]\n",
        "\n",
        "    return U, singular_values, V.T\n",
        "\n",
        "class PCAKNNClassifer():\n",
        "    def __init__(self, components=25, k=3):\n",
        "\n",
        "        \"\"\"\n",
        "        Initialize PCA kNN classifier\n",
        "        Inputs:\n",
        "        components: number of principal components\n",
        "        k: number of neighbors involved in voting\n",
        "\n",
        "        \"\"\"\n",
        "        \"\"\" ==========\n",
        "        YOUR CODE HERE\n",
        "        ========== \"\"\"\n",
        "\n",
        "        self.knn = kNNClassifier_v1_5(k=k)\n",
        "        self.components = components\n",
        "        self.k = k\n",
        "\n",
        "\n",
        "    def train(self, trainData, trainLabels):\n",
        "\n",
        "        \"\"\"\n",
        "        Train your model with image data and corresponding labels.\n",
        "        Inputs:\n",
        "        trainData: Training images (N,64)\n",
        "        trainLabels: Labels (N,)\n",
        "        \"\"\"\n",
        "        # Center the data\n",
        "        X_hat = trainData - np.mean(trainData, axis=0)\n",
        "\n",
        "        \"\"\" ==========\n",
        "        YOUR CODE HERE\n",
        "        ========== \"\"\"\n",
        "        # Perform SVD on centered data (mean-deviation form of data matrix)\n",
        "        U, D, V = svd(X_hat)\n",
        "        \"\"\" ==========\n",
        "        YOUR CODE HERE\n",
        "        ========== \"\"\"\n",
        "        # Handle zero singular values\n",
        "        D = np.where(D == 0, np.finfo(float).eps, D)\n",
        "\n",
        "        # Select the top 25\n",
        "        self.V = V[:self.components, :]\n",
        "\n",
        "        # Train data in PCA space\n",
        "        self.X_train_pca = np.dot(X_hat, self.V.T)\n",
        "        self.y_train = trainLabels\n",
        "        self.knn.train(self.X_train_pca, self.y_train)\n",
        "\n",
        "\n",
        "    def __call__(self, x):\n",
        "\n",
        "        \"\"\"\n",
        "        Predict the trained model on test data.\n",
        "        Inputs:\n",
        "        x: Test images (N,64)\n",
        "        Returns:\n",
        "        predicted labels (N,)\n",
        "        \"\"\"\n",
        "        \"\"\" ==========\n",
        "        YOUR CODE HERE\n",
        "        ========== \"\"\"\n",
        "\n",
        "        # Center the test data\n",
        "        x_centered = x - np.mean(X_train, axis=0)\n",
        "\n",
        "        # Project test data\n",
        "        X_test_pca = np.dot(x_centered, self.V.T)\n",
        "        return self.knn(X_test_pca)\n",
        "\n",
        "# test your classifier with only the first 100 training examples (use this\n",
        "# while debugging)\n",
        "pcaknnClassiferX = PCAKNNClassifer()\n",
        "pcaknnClassiferX.train(X_train[:100], y_train[:100])\n",
        "print ('PCA-kNN classifier accuracy: %f'%test(X_test, y_test, pcaknnClassiferX))\n"
      ]
    },
    {
      "cell_type": "code",
      "execution_count": 18,
      "metadata": {
        "id": "eSbD_cdeoOY5",
        "colab": {
          "base_uri": "https://localhost:8080/",
          "height": 730
        },
        "outputId": "7b7a6fcc-6b75-4501-ed0c-d10aa6d19a50"
      },
      "outputs": [
        {
          "output_type": "stream",
          "name": "stdout",
          "text": [
            "PCA-kNN classifier accuracy: 96.666667\n"
          ]
        },
        {
          "output_type": "stream",
          "name": "stderr",
          "text": [
            "4it [00:09,  2.30s/it]\n"
          ]
        },
        {
          "output_type": "display_data",
          "data": {
            "text/plain": [
              "<Figure size 1400x600 with 1 Axes>"
            ],
            "image/png": "[encoded data removed]"
          },
          "metadata": {}
        },
        {
          "output_type": "stream",
          "name": "stdout",
          "text": [
            "[[1.   0.   0.   0.   0.   0.   0.   0.   0.   0.  ]\n",
            " [0.   1.   0.   0.   0.   0.   0.   0.   0.   0.  ]\n",
            " [0.   0.   1.   0.   0.   0.   0.   0.   0.   0.  ]\n",
            " [0.   0.   0.   0.89 0.   0.06 0.   0.   0.06 0.  ]\n",
            " [0.   0.   0.   0.   1.   0.   0.   0.   0.   0.  ]\n",
            " [0.   0.   0.   0.   0.   1.   0.   0.   0.   0.  ]\n",
            " [0.   0.   0.   0.   0.   0.   1.   0.   0.   0.  ]\n",
            " [0.   0.   0.   0.   0.   0.   0.   1.   0.   0.  ]\n",
            " [0.   0.06 0.   0.   0.   0.   0.   0.06 0.88 0.  ]\n",
            " [0.   0.   0.   0.06 0.   0.06 0.   0.   0.   0.89]]\n"
          ]
        }
      ],
      "source": [
        "# test your classifier with all the training examples\n",
        "pcaknnClassifer = PCAKNNClassifer()\n",
        "pcaknnClassifer.train(X_train, y_train)\n",
        "# display confusion matrix for your PCA KNN classifier with all the training examples\n",
        "\"\"\" ==========\n",
        "YOUR CODE HERE\n",
        "========== \"\"\"\n",
        "\n",
        "# Display the accuracy and visualize the confusion matrix\n",
        "print ('PCA-kNN classifier accuracy: %f'%test(X_test, y_test, pcaknnClassifer))\n",
        "M_pca, _ = Confusion(X_test, y_test, pcaknnClassifer)  # Calculate confusion matrix\n",
        "VisualizeConfussion(M_pca)\n"
      ]
    },
    {
      "cell_type": "markdown",
      "metadata": {
        "id": "iuQfPRnEpM9c"
      },
      "source": [
        "- Σχολιασμός του χρόνου εκτέλεσης PCA-kNN σε σχέση με τον kNN.\n",
        "\n",
        "\"\"\"\n",
        "Ο χρονος εκτέλεσης του PCA-kNN ειναι μικροτερος απο τον kNN, λόγω μείωσης των διάστεων, επομένως κατά συνέπεια και της πολυπλοκότητας και του χρόνου εκτέλεσης.\n",
        "\"\"\""
      ]
    },
    {
      "cell_type": "markdown",
      "metadata": {
        "id": "R8ol8VCDpV8Q"
      },
      "source": [
        "## Άσκηση 2: Βαθιά Μάθηση [15 μονάδες + bonus 5 μονάδες (ζήτημα 2.5)]\n"
      ]
    },
    {
      "cell_type": "markdown",
      "metadata": {
        "id": "aYf3GsdmpfvS"
      },
      "source": [
        "### Ζήτημα 2.1 Αρχική Εγκατάσταση (απεικόνιση παραδειγμάτων) [1 μονάδα]\n",
        "\n",
        "- **Τοπικά** (jupyter):\n",
        "Ακολουθήστε τις οδηγίες στη διεύθυνση https://pytorch.org/get-started/locally/ για να εγκαταστήσετε την PyΤorch τοπικά στον υπολογιστή σας.\n",
        "Για παράδειγμα, αφού δημιουργήσετε και ενεργοποιήσετε κάποιο εικονικό περιβάλλον anaconda με τις εντολές: π.χ. `(base)$ conda create -n askisi`, `(base)$ conda activate askisi`, η εντολή `(askisi)$ conda install pytorch torchvision torchaudio cpuonly -c pytorch` εγκαθιστά την βιβλιοθήκη \"PyTorch\" σε περιβάλλον Linux/Windows χωρίς GPU υποστήριξη.\n",
        "\n",
        "**Προσοχή** σε αυτό το σημείο, αν τρέχετε την άσκηση τοπικά σε jupyter, εκτός της εγκατάστασης του PyTorch, θα χρειαστούν ξανά και κάποιες βιβλιοθήκες `matplotlib`, `scipy`, `tqdm` και `sklearn` (όπως και στην 1η άσκηση), μέσα στο περιβάλλον 'askisi', πριν ανοίξετε το jupyter: `(askisi)$ conda install matplotlib tqdm scipy` και `(askisi)$ conda install -c anaconda scikit-learn`. Αυτό χρειάζεται διότι σε ορισμένες περιπτώσεις, αφού εγκαταστήσετε τις βιβλιοθήκες που απαιτούνται, πρέπει να εξασφαλίσετε ότι ο *Python Kernel* αναγνωρίζει την προϋπάρχουσα εγκατάσταση (PyTorch, matplotlib, tqdm, κτλ.).\n",
        "Τέλος, χρειάζεται να εγκαταστήσετε το jupyter ή jupyterlab μέσω του περιβάλλοντος conda: `(askisi)$ conda install jupyter` και μετά να εκτελέσετε `(askisi)$ jupyter notebook` για να ανοίξετε το jupyter με τη σωστή εγκατάσταση. Αν όλα έχουν γίνει σωστά, θα πρέπει ο *Python Kernel* να βλέπει όλα τα 'modules' που χρειάζεστε στη 2η άσκηση. Διαφορετικά, μπορείτε να εγκαταστήσετε εξ' αρχής όλες τις βιβλιοθήκες, από την αρχή υλοποίησης της εργασίας, μέσα στο εικονικό περιβάλλον *askisi* ώστε να μην είναι απαραίτητη εκ νέου η εγκατάσταση των βιβλιοθηκών που θα χρειαστούν στη 2η άσκηση.\n",
        "\n",
        "- **Colab**: **Αν** χρησιμοποιείτε google colab, τότε δεν θα χρειαστεί λογικά κάποιο βήμα εγκατάστασης. Αν ωστόσο σας παρουσιαστεί κάποιο πρόβλημα με απουσία πακέτου, π.χ. \"ModuleNotFoundError - torchvision\", τότε μπορείτε απλώς να το εγκαταστήσετε με χρήση του εργαλείου `pip` εκτελώντας την αντίστοιχη εντολή (π.χ. \"!pip install torchvision\") σε ένα νέο κελί του notebook.\n",
        "\n",
        "Σημείωση: Δεν θα είναι απαραίτητη η χρήση GPU για αυτήν την άσκηση, γι' αυτό μην ανησυχείτε αν δεν έχετε ρυθμίσει την εγκατάσταση με υποστήριξη GPU. Επιπλέον, η εγκατάσταση με υποστήριξη GPU είναι συχνά πιο δύσκολη στη διαμόρφωση, γι' αυτό και προτείνεται να εγκαταστήσετε μόνο την έκδοση CPU.\n",
        "\n",
        "Εκτελέστε τις παρακάτω εντολές για να επαληθεύσετε την εγκατάστασή σας (PyTorch)."
      ]
    },
    {
      "cell_type": "code",
      "execution_count": 19,
      "metadata": {
        "id": "nQC44M9Rp1VR",
        "colab": {
          "base_uri": "https://localhost:8080/"
        },
        "outputId": "ca865ac7-0556-47fc-fff6-712f3ce0e55f"
      },
      "outputs": [
        {
          "output_type": "stream",
          "name": "stdout",
          "text": [
            "tensor([[0.0481, 0.3598, 0.3378],\n",
            "        [0.0961, 0.3512, 0.4746],\n",
            "        [0.2320, 0.0885, 0.0515],\n",
            "        [0.3013, 0.8787, 0.2139],\n",
            "        [0.2779, 0.6931, 0.5593]])\n"
          ]
        }
      ],
      "source": [
        "import scipy\n",
        "import torch.nn as nn\n",
        "import torch.nn.functional as F\n",
        "import torch\n",
        "from torch.autograd import Variable\n",
        "\n",
        "# create a tensor of 5x3 random-valued array\n",
        "x = torch.rand(5, 3)\n",
        "print(x)"
      ]
    },
    {
      "cell_type": "markdown",
      "metadata": {
        "id": "Ai7Lktn5tLBz"
      },
      "source": [
        "Σε αυτή την άσκηση, θα χρησιμοποιήσουμε το πλήρες σύνολο δεδομένων της βάσης δεδομένων MNIST με τις εικόνες ψηφίων 28x28 pixel (60.000 εικόνες εκπαίδευσης, 10.000 εικόνες ελέγχου).\n",
        "\n",
        "Ο κώδικας που ακολουθεί \"κατεβάζει\" το σύνολο δεδομένων MNIST της κλάσης [torchvision.datasets](https://pytorch.org/vision/main/generated/torchvision.datasets.MNIST.html#torchvision.datasets.MNIST), στο φάκελο `mnist` (του root καταλόγου).\n",
        "Μπορείτε να αλλάξετε τον κατάλογο που δείχνει η μεταβλητή `path` στη διαδρομή που επιθυμείτε. Ενδεικτικό `path` σε περιβάλλον Windows: **path = 'C:/Users/user/Υπολογιστική Όραση/assignments/assignment/'**. Στην περίπτωση που εργάζεστε μέσω **colab** μπορεί να χρειαστεί η φόρτωση του καταλόγου στο drive, εκτελώντας `from google.colab import drive` και `drive.mount('/content/gdrive')` και μετά θέτοντας π.χ το **path = '/content/gdrive/assignment/'**.\n",
        "\n",
        "- Θα πρέπει να απεικονίσετε σε ένα σχήμα 2x5 ένα τυχαίο παράδειγμα εικόνας που αντιστοιχεί σε κάθε ετικέτα (κατηγορία) από τα δεδομένα εκπαίδευσης (αντίστοιχα του ζητήματος 1.2)."
      ]
    },
    {
      "cell_type": "code",
      "source": [
        "from google.colab import drive\n",
        "drive.mount('/content/drive')"
      ],
      "metadata": {
        "colab": {
          "base_uri": "https://localhost:8080/"
        },
        "id": "lS8cJWcpsQRr",
        "outputId": "ca2c4da8-9f79-44f5-8dc8-2365af39e744"
      },
      "execution_count": 20,
      "outputs": [
        {
          "output_type": "stream",
          "name": "stdout",
          "text": [
            "Drive already mounted at /content/drive; to attempt to forcibly remount, call drive.mount(\"/content/drive\", force_remount=True).\n"
          ]
        }
      ]
    },
    {
      "cell_type": "code",
      "execution_count": 21,
      "metadata": {
        "id": "2aFliNDrn-Tk"
      },
      "outputs": [],
      "source": [
        "import torch\n",
        "import torchvision.datasets as datasets\n",
        "\n",
        "# import additional libs in case not already done in 'askisi 1'\n",
        "import matplotlib.pyplot as plt\n",
        "import numpy as np\n",
        "\n",
        "# Define the dataset directory\n",
        "path = './mnist/'\n",
        "\n",
        "# Load the MNIST training dataset\n",
        "train_dataset = datasets.MNIST(root=path, train=True, download=True)\n",
        "\n",
        "# Extract the images and labels from the training dataset\n",
        "X_train = train_dataset.data.numpy()\n",
        "y_train = train_dataset.targets.numpy()\n",
        "\n",
        "# Load the MNIST testing dataset\n",
        "test_dataset = datasets.MNIST(root=path, train=False, download=True)\n",
        "\n",
        "# Extract the images and labels from the testing dataset\n",
        "X_test = test_dataset.data.numpy()\n",
        "y_test = test_dataset.targets.numpy()\n"
      ]
    },
    {
      "cell_type": "code",
      "execution_count": 22,
      "metadata": {
        "id": "E5tK3MeXN5v2"
      },
      "outputs": [],
      "source": [
        "def plot_mnist_sample_high_res(X_train, y_train):\n",
        "  \"\"\"\n",
        "  This function plots a sample image for each category,\n",
        "  The result is a figure with 2x5 grid of images.\n",
        "\n",
        "  \"\"\"\n",
        "  \"\"\" ==========\n",
        "  YOUR CODE HERE\n",
        "  ========== \"\"\"\n",
        "  \"\"\"\n",
        "  fig, axes = plt.subplots(2, 5, figsize=(10, 5))\n",
        "  axes = axes.ravel()  # Flatten the axes array for easier indexing\n",
        "\n",
        "  for i in range(10):\n",
        "        # Find the first index where the label matches i\n",
        "        index = np.where(y_train == i)[0][0]\n",
        "        image = X_train[index]\n",
        "        axes[i].imshow(image, cmap='gray')\n",
        "        axes[i].set_title(f\"Train: {i}\")\n",
        "        axes[i].axis('off')\n",
        "  plt.tight_layout()\n",
        "  plt.show()\n",
        "  \"\"\"\n",
        "\n",
        "  #figure\n",
        "\n",
        "  plot = plt.figure()\n",
        "\n",
        "\n",
        "  for i in range(10):\n",
        "      # For each label 0-9 that represents each digit\n",
        "      index = np.where(y_train == i)[0][0]\n",
        "      image = X_train[index]\n",
        "\n",
        "      # add subplot with 2 rows and 5 columns in position i+1\n",
        "      ax = plot.add_subplot(2, 5, i + 1)\n",
        "      ax.imshow(image, cmap='gray')  # Display the image in grayscale\n",
        "      ax.set_title(f\"Train: {i}\")  # Add a title like thw example\n",
        "      ax.axis('off')  # Remove the axis for cleaner visualization\n",
        "\n"
      ]
    },
    {
      "cell_type": "code",
      "execution_count": 23,
      "metadata": {
        "id": "BNCBDoFnN8B5",
        "colab": {
          "base_uri": "https://localhost:8080/",
          "height": 346
        },
        "outputId": "7cb9626f-7487-431e-a7d1-103a8008deac"
      },
      "outputs": [
        {
          "output_type": "display_data",
          "data": {
            "text/plain": [
              "<Figure size 640x480 with 10 Axes>"
            ],
            "image/png": "[encoded data removed]"
          },
          "metadata": {}
        }
      ],
      "source": [
        "# PLOT CODE: DO NOT CHANGE\n",
        "# This code is for you to plot the results.\n",
        "\n",
        "\n",
        "plot_mnist_sample_high_res(X_train, y_train)"
      ]
    },
    {
      "cell_type": "markdown",
      "metadata": {
        "id": "6Wu-weDbqEAY"
      },
      "source": [
        "### Ζήτημα 2.2:  Εκπαίδευση Νευρωνικού Δικτύου με PyTorch [5 μονάδες]\n",
        "Ακολουθεί ένα τμήμα βοηθητικού κώδικα για την εκπαίδευση των βαθιών νευρωνικών δικτύων (Deep Neural Networks - DNN).\n",
        "\n",
        "- Ολοκληρώστε τη συνάρτηση train_net() για το παρακάτω DNN.\n",
        "\n",
        "Θα πρέπει να συμπεριλάβετε τις λειτουργίες της διαδικασίας της εκπαίδευσης σε αυτή τη συνάρτηση. Αυτό σημαίνει ότι για μια παρτίδα/υποσύνολο δεδομένων (batch μεγέθους 50) πρέπει να αρχικοποιήσετε τις παραγώγους, να υλοποιήσετε τη διάδοση προς τα εμπρός της πληροφορίας (forward propagation), να υπολογίσετε το σφάλμα εκτίμησης, να κάνετε οπισθοδιάδοση της πληροφορίας (μετάδοση προς τα πίσω των παραγώγων σφάλματος ως προς τα βάρη - backward propagation), και τέλος, να ενημερώσετε τις παραμέτρους (weight update). Θα πρέπει να επιλέξετε μια κατάλληλη συνάρτηση απώλειας και βελτιστοποιητή (optimizer) από την βιβλιοθήκη PyTorch για αυτό το πρόβλημα.\n",
        "\n",
        "Αυτή η συνάρτηση θα χρησιμοποιηθεί στα επόμενα ζητήματα με διαφορετικά δίκτυα. Θα μπορείτε δηλαδή να χρησιμοποιήσετε τη μέθοδο `train_net` για να εκπαιδεύσετε το βαθύ νευρωνικό σας δίκτυο, εφόσον προσδιορίσετε τη συγκεκριμένη αρχιτεκτονική σας και εφαρμόσετε το `forward pass` σε μια υπο/κλάσση της DNN (βλ. παράδειγμα \"LinearClassifier(DNN)\").\n",
        "Μπορείτε να ανατρέξετε στη διεύθυνση https://pytorch.org/tutorials/beginner/pytorch_with_examples.html για περισσότερες πληροφορίες.\n",
        "Επίσης, ένα αρκετά χρήσιμο \"tutorial\" περιλαμβάνεται στο σημειωματάριο jupyter `(tutorial1_pytorch_introduction.ipynb)` στο φάκελο της αναρτημένης εργασίας στη σελίδα ecourse του μαθήματος.\n",
        "\n",
        "Στο τέλος, μπορείτε να χρησιμοποιήσετε την υφιστάμενη υλοποίηση από την 1η άσκηση για την αξιολόγηση της απόδοσης (`Confusion` και `VisualizeConfussion`)."
      ]
    },
    {
      "cell_type": "code",
      "execution_count": 24,
      "metadata": {
        "id": "Ky0FksEwqDta"
      },
      "outputs": [],
      "source": [
        "# base class for your deep neural networks. It implements the training loop (train_net).\n",
        "\n",
        "\n",
        "import torch.nn.init\n",
        "import torch.optim as optim\n",
        "from torch.autograd import Variable\n",
        "from torch.nn.parameter import Parameter\n",
        "from tqdm import tqdm\n",
        "from scipy.stats import truncnorm\n",
        "\n",
        "class DNN(nn.Module):\n",
        "  def __init__(self):\n",
        "      super(DNN, self).__init__()\n",
        "      pass\n",
        "\n",
        "  def forward(self, x):\n",
        "      raise NotImplementedError\n",
        "\n",
        "  def train_net(self, X_train, y_train, epochs=10, batchSize=50):\n",
        "      \"\"\" ==========\n",
        "      YOUR CODE HERE\n",
        "      ========== \"\"\"\n",
        "      # criterion selection, i.e, loss function\n",
        "      criterion = nn.CrossEntropyLoss()\n",
        "\n",
        "      # optimizer selection, using `optim.`\n",
        "      optimizer = optim.Adam(self.parameters() , lr=0.001)\n",
        "\n",
        "      n = X_train.shape[0]\n",
        "      # For each epoch\n",
        "      for epoch in range(epochs):\n",
        "        loss = 0\n",
        "        # For each batch\n",
        "        for i in tqdm(range(int(np.ceil(n / batchSize)))):\n",
        "          inds = slice(i * batchSize, min(n, (i + 1) * batchSize))\n",
        "          # Assign inputs and labels using PyTorch's autograd package via Variable\n",
        "          inputs = Variable(torch.FloatTensor(X_train[inds]))\n",
        "          labels = Variable(torch.LongTensor(y_train[inds]))\n",
        "\n",
        "          # Forward pass\n",
        "          outputs = self.forward(inputs)\n",
        "\n",
        "          # Backward pass\n",
        "          loss = criterion(outputs, labels)\n",
        "          optimizer.zero_grad()  # Zero the gradients\n",
        "          loss.backward()\n",
        "\n",
        "          # Weight update\n",
        "          optimizer.step()\n",
        "\n",
        "          # Final loss\n",
        "          loss += loss.item()\n",
        "\n",
        "        #return loss.data\n",
        "        print ('Epoch [%d/%d], Loss: %.4f'%(epoch+1, epochs, loss.data))\n",
        "\n",
        "  def __call__(self, x):\n",
        "      inputs = Variable(torch.FloatTensor(x))\n",
        "      prediction = self.forward(inputs)\n",
        "      return np.argmax(prediction.data.cpu().numpy(), 1)\n",
        "\n",
        "# helper function to get weight variable\n",
        "def weight_variable(shape):\n",
        "  initial = torch.Tensor(truncnorm.rvs(-1/0.01, 1/0.01, scale=0.01, size=shape))\n",
        "  return Parameter(initial, requires_grad=True)\n",
        "\n",
        "# helper function to get bias variable\n",
        "def bias_variable(shape):\n",
        "  initial = torch.Tensor(np.ones(shape)*0.1)\n",
        "  return Parameter(initial, requires_grad=True)"
      ]
    },
    {
      "cell_type": "code",
      "execution_count": 25,
      "metadata": {
        "id": "2HYVuzbtosJo"
      },
      "outputs": [],
      "source": [
        "# example linear classifier - input connected to output\n",
        "# you can take this as an example to learn how to extend DNN class\n",
        "class LinearClassifier(DNN):\n",
        "    def __init__(self, in_features=28*28, classes=10):\n",
        "        super(LinearClassifier, self).__init__()\n",
        "        # in_features=28*28\n",
        "        self.weight1 = weight_variable((classes, in_features))\n",
        "        self.bias1 = bias_variable((classes))\n",
        "\n",
        "    def forward(self, x):\n",
        "        # linear operation\n",
        "        y_pred = torch.addmm(self.bias1, x.view(list(x.size())[0], -1), self.weight1.t())\n",
        "        return y_pred\n",
        "\n",
        "#X_train=np.float32(np.expand_dims(X_train,-1))/255\n",
        "#X_train=X_train.transpose((0,3,1,2))\n",
        "\n",
        "#X_test=np.float32(np.expand_dims(X_test,-1))/255\n",
        "#X_test=X_test.transpose((0,3,1,2))\n",
        "\n",
        "## In case abovementioned 4 lines return error: Modify the lines for transposing X_train\n",
        "## and X_test by uncommenting the following 4 lines and place the 4 lines above in comments\n",
        "\n",
        "X_train = np.float32(X_train) / 255.0\n",
        "X_train = X_train.reshape(-1, 1, 28, 28)\n",
        "\n",
        "X_test = np.float32(X_test) / 255.0\n",
        "X_test = X_test.reshape(-1, 1, 28, 28)"
      ]
    },
    {
      "cell_type": "code",
      "execution_count": 26,
      "metadata": {
        "id": "J-UGSj6FqRKf",
        "colab": {
          "base_uri": "https://localhost:8080/"
        },
        "outputId": "21b00a48-fb99-40f2-cd4c-94b72b3db370"
      },
      "outputs": [
        {
          "output_type": "stream",
          "name": "stderr",
          "text": [
            "100%|██████████| 1200/1200 [00:01<00:00, 925.62it/s]\n"
          ]
        },
        {
          "output_type": "stream",
          "name": "stdout",
          "text": [
            "Epoch [1/10], Loss: 0.3202\n"
          ]
        },
        {
          "output_type": "stream",
          "name": "stderr",
          "text": [
            "100%|██████████| 1200/1200 [00:01<00:00, 933.04it/s]\n"
          ]
        },
        {
          "output_type": "stream",
          "name": "stdout",
          "text": [
            "Epoch [2/10], Loss: 0.2485\n"
          ]
        },
        {
          "output_type": "stream",
          "name": "stderr",
          "text": [
            "100%|██████████| 1200/1200 [00:01<00:00, 861.33it/s]\n"
          ]
        },
        {
          "output_type": "stream",
          "name": "stdout",
          "text": [
            "Epoch [3/10], Loss: 0.2256\n"
          ]
        },
        {
          "output_type": "stream",
          "name": "stderr",
          "text": [
            "100%|██████████| 1200/1200 [00:01<00:00, 702.31it/s]\n"
          ]
        },
        {
          "output_type": "stream",
          "name": "stdout",
          "text": [
            "Epoch [4/10], Loss: 0.2134\n"
          ]
        },
        {
          "output_type": "stream",
          "name": "stderr",
          "text": [
            "100%|██████████| 1200/1200 [00:01<00:00, 680.87it/s]\n"
          ]
        },
        {
          "output_type": "stream",
          "name": "stdout",
          "text": [
            "Epoch [5/10], Loss: 0.2058\n"
          ]
        },
        {
          "output_type": "stream",
          "name": "stderr",
          "text": [
            "100%|██████████| 1200/1200 [00:01<00:00, 678.42it/s]\n"
          ]
        },
        {
          "output_type": "stream",
          "name": "stdout",
          "text": [
            "Epoch [6/10], Loss: 0.2007\n"
          ]
        },
        {
          "output_type": "stream",
          "name": "stderr",
          "text": [
            "100%|██████████| 1200/1200 [00:01<00:00, 939.89it/s]\n"
          ]
        },
        {
          "output_type": "stream",
          "name": "stdout",
          "text": [
            "Epoch [7/10], Loss: 0.1972\n"
          ]
        },
        {
          "output_type": "stream",
          "name": "stderr",
          "text": [
            "100%|██████████| 1200/1200 [00:01<00:00, 920.50it/s]\n"
          ]
        },
        {
          "output_type": "stream",
          "name": "stdout",
          "text": [
            "Epoch [8/10], Loss: 0.1945\n"
          ]
        },
        {
          "output_type": "stream",
          "name": "stderr",
          "text": [
            "100%|██████████| 1200/1200 [00:01<00:00, 931.93it/s]\n"
          ]
        },
        {
          "output_type": "stream",
          "name": "stdout",
          "text": [
            "Epoch [9/10], Loss: 0.1925\n"
          ]
        },
        {
          "output_type": "stream",
          "name": "stderr",
          "text": [
            "100%|██████████| 1200/1200 [00:01<00:00, 936.75it/s]"
          ]
        },
        {
          "output_type": "stream",
          "name": "stdout",
          "text": [
            "Epoch [10/10], Loss: 0.1909\n",
            "Linear classifier accuracy: 92.510000\n"
          ]
        },
        {
          "output_type": "stream",
          "name": "stderr",
          "text": [
            "\n"
          ]
        }
      ],
      "source": [
        "# test the example linear classifier (note you should get around 90% accuracy\n",
        "# for 10 epochs and batchsize 50)\n",
        "linearClassifier = LinearClassifier()\n",
        "linearClassifier.train_net(X_train, y_train, epochs=10)\n",
        "\n",
        "print ('Linear classifier accuracy: %f'%test(X_test, y_test, linearClassifier))"
      ]
    },
    {
      "cell_type": "code",
      "execution_count": 27,
      "metadata": {
        "id": "8RA5688oyNTu",
        "colab": {
          "base_uri": "https://localhost:8080/",
          "height": 713
        },
        "outputId": "ff222b0a-05da-4f86-a5c0-d7c4447574e8"
      },
      "outputs": [
        {
          "output_type": "stream",
          "name": "stderr",
          "text": [
            "100%|██████████| 200/200 [00:00<00:00, 3659.28it/s]\n"
          ]
        },
        {
          "output_type": "display_data",
          "data": {
            "text/plain": [
              "<Figure size 1400x600 with 1 Axes>"
            ],
            "image/png": "[encoded data removed]"
          },
          "metadata": {}
        },
        {
          "output_type": "stream",
          "name": "stdout",
          "text": [
            "[[0.98 0.   0.   0.   0.   0.01 0.   0.   0.   0.  ]\n",
            " [0.   0.98 0.   0.   0.   0.   0.   0.   0.01 0.  ]\n",
            " [0.01 0.01 0.89 0.02 0.01 0.   0.01 0.01 0.04 0.  ]\n",
            " [0.   0.   0.02 0.9  0.   0.03 0.   0.01 0.02 0.01]\n",
            " [0.   0.   0.   0.   0.92 0.   0.01 0.   0.01 0.05]\n",
            " [0.01 0.   0.   0.02 0.01 0.89 0.01 0.01 0.03 0.01]\n",
            " [0.01 0.   0.   0.   0.01 0.02 0.95 0.   0.   0.  ]\n",
            " [0.   0.01 0.02 0.01 0.   0.   0.   0.92 0.   0.04]\n",
            " [0.01 0.01 0.01 0.02 0.01 0.03 0.01 0.01 0.88 0.01]\n",
            " [0.01 0.01 0.   0.01 0.02 0.01 0.   0.02 0.   0.93]]\n"
          ]
        }
      ],
      "source": [
        "# display confusion matrix\n",
        "\"\"\" ==========\n",
        "YOUR CODE HERE\n",
        "========== \"\"\"\n",
        "M, _ = Confusion(X_test, y_test, linearClassifier)\n",
        "VisualizeConfussion(M)"
      ]
    },
    {
      "cell_type": "markdown",
      "metadata": {
        "id": "mNzcCiLr0AU8"
      },
      "source": [
        "### Ζήτημα 2.3: Οπτικοποίηση Βαρών (Visualizing Weights of Single Layer Perceptron) [3 μονάδες]\n",
        "Αυτός ο απλός γραμμικός ταξινομητής που υλοποιείται στο παραπάνω κελί (το μοντέλο απλά επιστρέφει ένα γραμμικό συνδυασμό της εισόδου) παρουσιάζει ήδη αρκετά καλά αποτελέσματα.\n",
        "\n",
        "- Σχεδιάστε τα βάρη του φίλτρου που αντιστοιχούν σε κάθε κατηγορία εξόδου (τα **βάρη**/weights, όχι τους όρους *bias*) ως εικόνες. Κανονικοποιήστε τα βάρη ώστε να βρίσκονται μεταξύ 0 και 1 ( $z_i = \\frac{w_i - min(w)}{max(w) – min(w)}$ ). Χρησιμοποιήστε έγχρωμους χάρτες όπως \"inferno\" ή \"plasma\" για καλά αποτελέσματα (π.χ. cmap='inferno', ως όρισμα της imshow()).\n",
        "\n",
        "- Σχολιάστε με τι μοιάζουν τα βάρη και γιατί μπορεί να συμβαίνει αυτό.\n"
      ]
    },
    {
      "cell_type": "code",
      "execution_count": 28,
      "metadata": {
        "id": "Q8S3dYZgzzT_",
        "colab": {
          "base_uri": "https://localhost:8080/",
          "height": 473
        },
        "outputId": "ea29b073-035e-4dd9-d3d3-7be613b4e841"
      },
      "outputs": [
        {
          "output_type": "display_data",
          "data": {
            "text/plain": [
              "<Figure size 1000x500 with 10 Axes>"
            ],
            "image/png": "[encoded data removed]"
          },
          "metadata": {}
        }
      ],
      "source": [
        "# Plot filter weights corresponding to each class, you may have to reshape them to make sense out of them\n",
        "# linearClassifier.weight1.data will give you the first layer weights\n",
        "\"\"\" ==========\n",
        "YOUR CODE HERE\n",
        "========== \"\"\"\n",
        "\n",
        "weights = linearClassifier.weight1.data.cpu().numpy()\n",
        "\n",
        "fig, axes = plt.subplots(2, 5, figsize=(10, 5))\n",
        "axes = axes.ravel()\n",
        "\n",
        "for i in range(10):\n",
        "\n",
        "    w = weights[i]\n",
        "\n",
        "    # Normalize weights\n",
        "    w_norm = (w - np.min(w)) / (np.max(w) - np.min(w))\n",
        "\n",
        "    # Reshape weights to 28x28\n",
        "    w_img = w_norm.reshape(28, 28)\n",
        "    axes[i].imshow(w_img, cmap='inferno')\n",
        "    axes[i].set_title(f\"Train: {i}\")\n",
        "    axes[i].axis('off')\n",
        "\n",
        "plt.tight_layout()\n",
        "plt.show()\n",
        "\n",
        "\n",
        "\n"
      ]
    },
    {
      "cell_type": "markdown",
      "metadata": {
        "id": "zmQUOBNg0PkW"
      },
      "source": [
        "#### Σχολιασμός των βαρών\n",
        "\n",
        "Τα βάρη είναι pixelated εικόνες κάθε αριθμού. Με αυτή την μορφή φαίνεται ποια pixel επηρρεάζουν περισσότερο το αποτέλεσμα της πρόβλεψης και εκπαιδεύει τον linear Classifier."
      ]
    },
    {
      "cell_type": "markdown",
      "metadata": {
        "id": "gJBWgsBE0S7K"
      },
      "source": [
        "### Ζήτημα 2.4: Νευρωνικό δίκτυο πολλαπλών επιπέδων - Multi Layer Perceptron (MLP) [6 μονάδες]\n",
        "Θα υλοποιήσετε ένα MLP νευρωνικό δίκτυο. Το MLP θα πρέπει να αποτελείται από 2 επίπεδα (πολλαπλασιασμός βάρους και μετατόπιση μεροληψίας/bias - γραμμικός συνδυασμός εισόδου) που απεικονίζονται (map) στις ακόλουθες διαστάσεις χαρακτηριστικών:\n",
        "\n",
        "* 28x28 -> hidden (50)\n",
        "* hidden (50) -> classes\n",
        "\n",
        "* Το κρυμμένο επίπεδο πρέπει να ακολουθείται από μια μη γραμμική συνάρτηση ενεργοποίησης ReLU. Το τελευταίο επίπεδο δεν θα πρέπει να έχει εφαρμογή μη γραμμικής απεικόνισης καθώς επιθυμούμε την έξοδο ακατέργαστων 'logits' (στη μηχανική μάθηση, τα logits είναι οι τιμές που παράγονται από το τελικό επίπεδο ενός μοντέλου πριν περάσουν από μια συνάρτηση ενεργοποίησης softmax. Αντιπροσωπεύουν τις προβλέψεις του μοντέλου για κάθε κατηγορία χωρίς να μετατρέπονται σε πιθανότητες).\n",
        "* Η τελική έξοδος του υπολογιστικού γράφου (μοντέλου) θα πρέπει να αποθηκευτεί στο self.y καθώς θα χρησιμοποιηθεί στην εκπαίδευση.\n",
        "* Θα πρέπει να χρησιμοποιήσετε τις helper ρουτίνες `weight_variable` και `bias_variable` στην υλοποίησή σας.\n",
        "\n",
        "**Εμφανίστε τον πίνακα σύγχυσης** (confusion matrix - υλοποίηση 1ης άσκησης) και την ακρίβεια (accuracy) μετά την εκπαίδευση. Σημείωση: Θα πρέπει να έχετε ~95-97% ακρίβεια για 10 εποχές (epochs) και μέγεθος παρτίδας (batch size) 50.\n",
        "\n",
        "**Απεικονίστε τα βάρη** του φίλτρου που αντιστοιχούν στην αντιστοίχιση από τις εισόδους στις πρώτες 10 εξόδους του κρυμμένου επιπέδου (από τις 50 συνολικά). Μοιάζουν τα βάρη αυτά καθόλου με τα βάρη που απεικονίστηκαν στο προηγούμενο ζήτημα; Γιατί ή γιατί όχι?\n",
        "\n",
        "Αναμένεται ότι το μοντέλο εκπαίδευσης θα διαρκέσει από 1 έως μερικά λεπτά για να τρέξει, ανάλογα με τις δυνατότητες της CPU."
      ]
    },
    {
      "cell_type": "code",
      "execution_count": 29,
      "metadata": {
        "id": "Ss2lUgpL0JRh",
        "colab": {
          "base_uri": "https://localhost:8080/"
        },
        "outputId": "c61ffa28-8f2d-42ad-94a0-d629a636aaeb"
      },
      "outputs": [
        {
          "output_type": "stream",
          "name": "stderr",
          "text": [
            "100%|██████████| 1200/1200 [00:02<00:00, 582.88it/s]\n"
          ]
        },
        {
          "output_type": "stream",
          "name": "stdout",
          "text": [
            "Epoch [1/10], Loss: 0.1905\n"
          ]
        },
        {
          "output_type": "stream",
          "name": "stderr",
          "text": [
            "100%|██████████| 1200/1200 [00:02<00:00, 445.87it/s]\n"
          ]
        },
        {
          "output_type": "stream",
          "name": "stdout",
          "text": [
            "Epoch [2/10], Loss: 0.0922\n"
          ]
        },
        {
          "output_type": "stream",
          "name": "stderr",
          "text": [
            "100%|██████████| 1200/1200 [00:03<00:00, 365.74it/s]\n"
          ]
        },
        {
          "output_type": "stream",
          "name": "stdout",
          "text": [
            "Epoch [3/10], Loss: 0.0635\n"
          ]
        },
        {
          "output_type": "stream",
          "name": "stderr",
          "text": [
            "100%|██████████| 1200/1200 [00:02<00:00, 531.69it/s]\n"
          ]
        },
        {
          "output_type": "stream",
          "name": "stdout",
          "text": [
            "Epoch [4/10], Loss: 0.0603\n"
          ]
        },
        {
          "output_type": "stream",
          "name": "stderr",
          "text": [
            "100%|██████████| 1200/1200 [00:02<00:00, 547.48it/s]\n"
          ]
        },
        {
          "output_type": "stream",
          "name": "stdout",
          "text": [
            "Epoch [5/10], Loss: 0.0544\n"
          ]
        },
        {
          "output_type": "stream",
          "name": "stderr",
          "text": [
            "100%|██████████| 1200/1200 [00:02<00:00, 539.39it/s]\n"
          ]
        },
        {
          "output_type": "stream",
          "name": "stdout",
          "text": [
            "Epoch [6/10], Loss: 0.0452\n"
          ]
        },
        {
          "output_type": "stream",
          "name": "stderr",
          "text": [
            "100%|██████████| 1200/1200 [00:02<00:00, 533.84it/s]\n"
          ]
        },
        {
          "output_type": "stream",
          "name": "stdout",
          "text": [
            "Epoch [7/10], Loss: 0.0411\n"
          ]
        },
        {
          "output_type": "stream",
          "name": "stderr",
          "text": [
            "100%|██████████| 1200/1200 [00:02<00:00, 456.57it/s]\n"
          ]
        },
        {
          "output_type": "stream",
          "name": "stdout",
          "text": [
            "Epoch [8/10], Loss: 0.0357\n"
          ]
        },
        {
          "output_type": "stream",
          "name": "stderr",
          "text": [
            "100%|██████████| 1200/1200 [00:03<00:00, 367.67it/s]\n"
          ]
        },
        {
          "output_type": "stream",
          "name": "stdout",
          "text": [
            "Epoch [9/10], Loss: 0.0287\n"
          ]
        },
        {
          "output_type": "stream",
          "name": "stderr",
          "text": [
            "100%|██████████| 1200/1200 [00:02<00:00, 509.59it/s]"
          ]
        },
        {
          "output_type": "stream",
          "name": "stdout",
          "text": [
            "Epoch [10/10], Loss: 0.0254\n"
          ]
        },
        {
          "output_type": "stream",
          "name": "stderr",
          "text": [
            "\n"
          ]
        }
      ],
      "source": [
        "class MLPClassifer(DNN):\n",
        "    def __init__(self, in_features=28*28, classes=10, hidden=50):\n",
        "        \"\"\"\n",
        "        Initialize weight and bias variables\n",
        "        \"\"\"\n",
        "        super(MLPClassifer, self).__init__()\n",
        "        \"\"\" ==========\n",
        "        YOUR CODE HERE\n",
        "        ========== \"\"\"\n",
        "\n",
        "        # Create weights with dimentions as in_features  classes and hidden\n",
        "        self.weight1 = weight_variable((hidden, in_features))\n",
        "        self.bias1 = bias_variable((hidden,))\n",
        "        self.weight2 = weight_variable((classes, hidden))\n",
        "        self.bias2 = bias_variable((classes,))\n",
        "\n",
        "\n",
        "    def forward(self, x):\n",
        "        \"\"\" ==========\n",
        "        YOUR CODE HERE\n",
        "        ========== \"\"\"\n",
        "        # Flatten the x vector\n",
        "        x = x.view(x.size(0), -1)\n",
        "        # calculate hidden layer output\n",
        "        hidden_layer = torch.addmm(self.bias1, x, self.weight1.t())\n",
        "        # ReLU activation\n",
        "        relu = torch.relu(hidden_layer)\n",
        "        # calculate and return final output\n",
        "        self.y = torch.addmm(self.bias2, relu, self.weight2.t()) # Store the output\n",
        "        return self.y\n",
        "\n",
        "\n",
        "mlpClassifer = MLPClassifer()\n",
        "mlpClassifer.train_net(X_train, y_train, epochs=10, batchSize=50)"
      ]
    },
    {
      "cell_type": "code",
      "execution_count": 30,
      "metadata": {
        "id": "R-4xraHl0muj",
        "colab": {
          "base_uri": "https://localhost:8080/",
          "height": 748
        },
        "outputId": "55627796-fbaa-46e8-b54b-0e27f71f76e1"
      },
      "outputs": [
        {
          "output_type": "stream",
          "name": "stderr",
          "text": [
            "100%|██████████| 200/200 [00:00<00:00, 2836.82it/s]\n"
          ]
        },
        {
          "output_type": "stream",
          "name": "stdout",
          "text": [
            "Confusion matrix - MLP classifier accuracy: 0.000000\n",
            "MLP classifier accuracy: 97.180000\n"
          ]
        },
        {
          "output_type": "display_data",
          "data": {
            "text/plain": [
              "<Figure size 1400x600 with 1 Axes>"
            ],
            "image/png": "[encoded data removed]"
          },
          "metadata": {}
        },
        {
          "output_type": "stream",
          "name": "stdout",
          "text": [
            "[[0.99 0.   0.   0.   0.   0.   0.   0.   0.   0.  ]\n",
            " [0.   0.99 0.   0.   0.   0.   0.   0.   0.   0.  ]\n",
            " [0.   0.   0.97 0.01 0.   0.   0.   0.   0.01 0.  ]\n",
            " [0.   0.   0.   0.97 0.   0.01 0.   0.   0.01 0.  ]\n",
            " [0.   0.   0.   0.   0.97 0.   0.01 0.   0.   0.01]\n",
            " [0.   0.   0.   0.01 0.   0.97 0.   0.   0.   0.  ]\n",
            " [0.01 0.   0.   0.   0.   0.01 0.97 0.   0.   0.  ]\n",
            " [0.   0.01 0.01 0.   0.   0.   0.   0.96 0.   0.01]\n",
            " [0.   0.   0.   0.01 0.01 0.01 0.   0.   0.96 0.  ]\n",
            " [0.   0.01 0.   0.01 0.01 0.   0.   0.   0.   0.96]]\n"
          ]
        }
      ],
      "source": [
        "# Plot confusion matrix\n",
        "M_mlp,acc_mlp = Confusion(X_test, y_test, mlpClassifer)\n",
        "\n",
        "print ('Confusion matrix - MLP classifier accuracy: %f'%acc_mlp)\n",
        "\n",
        "# Check also standard accucary of test() for consistency\n",
        "print ('MLP classifier accuracy: %f'%test(X_test, y_test, mlpClassifer))\n",
        "\n",
        "VisualizeConfussion(M_mlp)"
      ]
    },
    {
      "cell_type": "code",
      "execution_count": 31,
      "metadata": {
        "id": "FLD0yjHH0bVU",
        "colab": {
          "base_uri": "https://localhost:8080/",
          "height": 410
        },
        "outputId": "c3bf37c4-802e-4177-8963-fc488893d5cd"
      },
      "outputs": [
        {
          "output_type": "display_data",
          "data": {
            "text/plain": [
              "<Figure size 1000x400 with 10 Axes>"
            ],
            "image/png": "[encoded data removed]"
          },
          "metadata": {}
        }
      ],
      "source": [
        "# Plot filter weights\n",
        "\"\"\" ==========\n",
        "YOUR CODE HERE\n",
        "========== \"\"\"\n",
        "\n",
        "weights = mlpClassifer.weight1.data.cpu().numpy()\n",
        "\n",
        "# Adjusted figsize for better visualization\n",
        "fig, axes = plt.subplots(2, 5, figsize=(10, 4))\n",
        "axes = axes.ravel()\n",
        "\n",
        "for i in range(10):\n",
        "    w = weights[i]\n",
        "    w_norm = (w - np.min(w)) / (np.max(w) - np.min(w))\n",
        "    w_img = w_norm.reshape(28, 28)\n",
        "    axes[i].imshow(w_img, cmap='inferno')\n",
        "    axes[i].set_title(f\"Filter weights: {i}\")\n",
        "    axes[i].axis('off')\n",
        "\n",
        "plt.tight_layout()\n",
        "plt.show()"
      ]
    },
    {
      "cell_type": "markdown",
      "metadata": {
        "id": "tBC6s9qQ1KKj"
      },
      "source": [
        "### Ζήτημα 2.5: Συνελικτικό Νευρωνικό Δίκτυο - Convolutional Neural Network (CNN) [`bonus`  5 μονάδες]\n",
        "Εδώ θα υλοποιήσετε ένα CNN με την ακόλουθη αρχιτεκτονική:\n",
        "\n",
        "* n=10 (output features or filters)\n",
        "* ReLU( Conv(kernel_size=5x5, stride=2, output_features=n) )\n",
        "* ReLU( Conv(kernel_size=5x5, stride=2, output_features=n*2) )\n",
        "* ReLU( Linear(hidden units = 64) )\n",
        "* Linear(output_features=classes)\n",
        "\n",
        "Δηλαδή, 2 συνελικτικά επίπεδα (Conv Layers) όπου απεικονίζουν μη-γραμμικά (ReLU) την είσοδο του προηγούμενου επιπέδου, ακολουθούμενα από 1 πλήρως συνδεδεμένο κρυμμένο επίπεδο (FC hidden layer) με μη γραμμική ενεργοποίηση (ReLU) και μετά το επίπεδο εξόδου (output layer) όπου συνδυάζει γραμμικά τις τιμές του προηγούμενου επιπέδου.\n",
        "\n",
        "Εμφανίστε τον πίνακα σύγχυσης και την ακρίβεια μετά την εκπαίδευση. Θα πρέπει να έχετε περίπου ~98% ακρίβεια για 10 εποχές και μέγεθος παρτίδας 50.<br><br>\n",
        "\n",
        "**Σημείωση: Δεν επιτρέπεται να χρησιμοποιείτε τις torch.nn.Conv2d() και torch.nn.Linear(). Η χρήση αυτών θα οδηγήσει σε αφαίρεση μονάδων. Χρησιμοποιήστε τις δηλωμένες συναρτήσεις conv2d(), weight_variable() και bias_variable().** Ωστόσο στην πράξη, όταν προχωρήσετε μετά από αυτό το μάθημα, θα χρησιμοποιήσετε torch.nn.Conv2d() που κάνει τη ζωή πιο εύκολη και αποκρύπτει όλες τις υποφαινόμενες λειτουργίες.\n",
        "\n",
        "**Μην** ξεχάσετε να σχολιάσετε τον κώδικά σας όπου χρειάζεται (π.χ. στον τρόπο υπολογισμού των διαστάσεων της εξόδου σε κάθε επίπεδο)."
      ]
    },
    {
      "cell_type": "code",
      "execution_count": 35,
      "metadata": {
        "id": "-OhmF0NM1Clj"
      },
      "outputs": [],
      "source": [
        "def conv2d(x, W, stride, bias=None):\n",
        "    # x: input\n",
        "    # W: weights (out, in, kH, kW)\n",
        "    return F.conv2d(x, W, bias, stride=stride, padding=2)\n",
        "\n",
        "# Defining a Convolutional Neural Network\n",
        "class CNNClassifer(DNN):\n",
        "    def __init__(self, classes=10, n=10):\n",
        "        super(CNNClassifer, self).__init__()\n",
        "        \"\"\" ==========\n",
        "        YOUR CODE HERE\n",
        "        ========== \"\"\"\n",
        "\n",
        "    def forward(self, x):\n",
        "        \"\"\" ==========\n",
        "        YOUR CODE HERE\n",
        "        ========== \"\"\"\n",
        "\n",
        "        #return y\n",
        "\n",
        "cnnClassifer = CNNClassifer()\n",
        "#cnnClassifer.train_net(X_train, y_train, epochs=10, batchSize=50)"
      ]
    },
    {
      "cell_type": "code",
      "execution_count": 38,
      "metadata": {
        "id": "SWkNhBgf1Sf3",
        "colab": {
          "base_uri": "https://localhost:8080/",
          "height": 35
        },
        "outputId": "ab55947c-427d-46d6-ae09-dc652861a744"
      },
      "outputs": [
        {
          "output_type": "execute_result",
          "data": {
            "text/plain": [
              "' ==========\\nYOUR CODE HERE\\n ========== '"
            ],
            "application/vnd.google.colaboratory.intrinsic+json": {
              "type": "string"
            }
          },
          "metadata": {},
          "execution_count": 38
        }
      ],
      "source": [
        "# Plot confusion matrix and print the test accuracy of the classifier\n",
        "\"\"\" ==========\n",
        "YOUR CODE HERE\n",
        " ========== \"\"\"\n",
        "\n",
        "#print ('Confusion matrix - MLP classifier accuracy: %f'%acc_cnn)\n",
        "\n",
        "# Check also standard accucary of test() for consistency\n",
        "#print ('MLP classifier accuracy: %f'%test(X_test, y_test, cnnClassifer))\n",
        "\n",
        "#VisualizeConfussion(M_cnn)"
      ]
    },
    {
      "cell_type": "markdown",
      "metadata": {
        "id": "nHx9gSiK1xVp"
      },
      "source": [
        "* Σημειώστε ότι οι προσεγγίσεις MLP/ConvNet οδηγούν σε λίγο μεγαλύτερη ακρίβεια ταξινόμησης από την προσέγγιση K-NN.\n",
        "* Στη γενική περίπτωση, οι προσεγγίσεις Νευρωνικών Δικτύων οδηγούν σε σημαντική αύξηση της ακρίβειας, αλλά, σε αυτή την περίπτωση, εφόσον το πρόβλημα δεν είναι ιδιαίτερα δύσκολο, η αύξηση της ακρίβειας δεν είναι και τόσο υψηλή.\n",
        "* Ωστόσο, αυτό εξακολουθεί να είναι αρκετά σημαντικό, δεδομένου του γεγονότος ότι τα ConvNets που χρησιμοποιήσαμε είναι σχετικά απλά, ενώ η ακρίβεια που επιτυγχάνεται χρησιμοποιώντας το K-NN είναι αποτέλεσμα αναζήτησης σε πάνω από 60.000 εικόνες εκπαίδευσης για κάθε εικόνα ελέγχου.\n",
        "* Συνιστάται ιδιαίτερα να αναζητήσετε περισσότερα για τα νευρωνικά δίκτυα/PyTorch στη διεύθυνση<br> https://pytorch.org/tutorials/beginner/deep_learning_60min_blitz.html καθώς και στο σχετικό tutorial στην αναρτημένη εργασία στη σελίδα ecourse του μαθήματος **tutorial1_pytorch_introduction.ipynb**.\n",
        "\n",
        "\n",
        "\n",
        "## Οδηγίες υποβολής\n",
        "\n",
        "Μην ξεχάσετε να κάνετε turnin το αρχείο Jupyter notebook **και** το PDF αρχείο αυτού του notebook μαζί με το συνοδευτικό αρχείο `onoma.txt`:\n",
        "**turnin  assignment@mye046 onoma.txt assignment.ipynb assignment.pdf**\n",
        "\n",
        "Βεβαιωθείτε ότι το περιεχόμενο σε **κάθε κελί εμφανίζεται** καθαρά στο τελικό σας αρχείο PDF.\n",
        "Για να μετατρέψετε το σημειωματάριο σε PDF, μπορείτε να επιλέξετε **έναν** από τους παρακάτω τρόπους:\n",
        "\n",
        "1. Google Colab (Συνιστάται): You can `print` the web page and save as PDF (e.g. Chrome: Right click the web page $\\rightarrow$ Print... $\\rightarrow$ Choose \"Destination: Save as PDF\" and click \"Save\"). Προσοχή στην περίπτωση όπου κώδικας/σχόλια εμφανίζονται εκτός των ορίων της σελίδας. Μια λύση είναι η αλλαγή γραμμής π.χ. σε σχόλια που υπερβαίνουν το πλάτος της σελίδας.\n",
        "* Στην περίπτωση που οι εικόνες εξόδου δεν εμφανίζονται σωστά, μια λύση μέσω colab είναι (εργαλείο nbconvert):\n",
        "   * Ανέβασμα του αρχείου `assignment.ipynb` στο home directory του Colaboratory (ο κατάλογος home είναι: /content/).\n",
        "   * Εκτελέστε σε ένα κελί colab ενός νέου notebook: `!jupyter nbconvert --to html /content/assignment.ipynb`\n",
        "   * Κάνετε λήψη του assignment.html τοπικά στον υπολογιστή σας και ανοίξτε το αρχείο μέσω browser ώστε να το εξάγετε ως PDF.\n",
        "\n",
        "2. Local Jupyter/JupyterLab(Συνιστάται): You can `print` the web page and save as PDF (File $\\rightarrow$ Print... $\\rightarrow$ Choose \"Destination: Save as PDF\" and click \"Save\"). Προσοχή στην περίπτωση όπου κώδικας/σχόλια εμφανίζονται εκτός των ορίων της σελίδας. Μια λύση είναι η αλλαγή γραμμής π.χ. σε σχόλια που υπερβαίνουν το πλάτος της σελίδας.\n",
        "\n",
        "3. Local Jupyter/JupyterLab(**Συνιστάται!**): You can `export` and save as HTML (File $\\rightarrow$ Save & Export Notebook as... $\\rightarrow$ HTML). Στη συνέχεια μπορείτε να μετατρέψετε το HTML αρχείο αποθηκεύοντάς το ως PDF μέσω ενός browser."
      ]
    }
  ],
  "metadata": {
    "anaconda-cloud": {},
    "colab": {
      "collapsed_sections": [
        "6Wu-weDbqEAY",
        "mNzcCiLr0AU8",
        "zmQUOBNg0PkW"
      ],
      "provenance": []
    },
    "hide_input": false,
    "kernelspec": {
      "display_name": "Python 3 (ipykernel)",
      "language": "python",
      "name": "python3"
    },
    "language_info": {
      "codemirror_mode": {
        "name": "ipython",
        "version": 3
      },
      "file_extension": ".py",
      "mimetype": "text/x-python",
      "name": "python",
      "nbconvert_exporter": "python",
      "pygments_lexer": "ipython3",
      "version": "3.11.5"
    },
    "toc": {
      "colors": {
        "hover_highlight": "#DAA520",
        "running_highlight": "#FF0000",
        "selected_highlight": "#FFD700"
      },
      "moveMenuLeft": true,
      "nav_menu": {
        "height": "123px",
        "width": "252px"
      },
      "navigate_menu": true,
      "number_sections": true,
      "sideBar": true,
      "threshold": 4,
      "toc_cell": false,
      "toc_section_display": "block",
      "toc_window_display": false,
      "widenNotebook": false
    }
  },
  "nbformat": 4,
  "nbformat_minor": 0
}